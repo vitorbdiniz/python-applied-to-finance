{
  "nbformat": 4,
  "nbformat_minor": 0,
  "metadata": {
    "colab": {
      "name": "TC School: Performance.ipynb",
      "provenance": [],
      "collapsed_sections": [],
      "toc_visible": true,
      "include_colab_link": true
    },
    "kernelspec": {
      "display_name": "Python 3",
      "language": "python",
      "name": "python3"
    },
    "language_info": {
      "codemirror_mode": {
        "name": "ipython",
        "version": 3
      },
      "file_extension": ".py",
      "mimetype": "text/x-python",
      "name": "python",
      "nbconvert_exporter": "python",
      "pygments_lexer": "ipython3",
      "version": "3.8.5"
    },
    "toc-autonumbering": true
  },
  "cells": [
    {
      "cell_type": "markdown",
      "metadata": {
        "id": "view-in-github",
        "colab_type": "text"
      },
      "source": [
        "<a href=\"https://colab.research.google.com/github/vitorbdiniz/python-applied-to-finance/blob/main/Performance_Evaluation.ipynb\" target=\"_parent\"><img src=\"https://colab.research.google.com/assets/colab-badge.svg\" alt=\"Open In Colab\"/></a>"
      ]
    },
    {
      "cell_type": "markdown",
      "metadata": {
        "id": "v1ien4hhiqH0"
      },
      "source": [
        "#Avaliando Performance De Portfólios"
      ]
    },
    {
      "cell_type": "markdown",
      "metadata": {
        "id": "APJoYKgPjRMo"
      },
      "source": [
        "Hoje trazemos mais uma aplicação da linguagem de programação Python aplicada ao campo dos investimentos. Dessa vez, iremos aplicar as métricas de avaliação de performance trazidas pelo 19º capítulo da sequência de *e-books* do CFA Institute Investment Foundations®: [Performance Evaluation](https://www.cfainstitute.org/-/media/documents/support/programs/investment-foundations/19-performance-evaluation.ashx?la=en&hash=F7FF3085AAFADE241B73403142AAE0BB1250B311)."
      ]
    },
    {
      "cell_type": "markdown",
      "metadata": {
        "id": "68soEmFCK08O"
      },
      "source": [
        "Com isso, iremos - abordando prática e teoria - entender os seguintes tópicos:\n",
        "\n",
        "1. Cálculo de retornos absolutos;\n",
        "2. Métricas de retornos ajustados ao risco;\n",
        "3. Métricas de retornos relativos;\n",
        "4. Cálculo de retorno anormal.\n"
      ]
    },
    {
      "cell_type": "markdown",
      "metadata": {
        "id": "6n9tYmxyxE31"
      },
      "source": [
        "Se você ainda não conhece os comandos básicos do Python, é interessante ler os primeiros tópicos da série [Quant & Investimentos](https://tc.com.br/tc-school/quant-investimentos/)."
      ]
    },
    {
      "cell_type": "markdown",
      "metadata": {
        "id": "P0mvXUtninel"
      },
      "source": [
        "#Importando bibliotecas"
      ]
    },
    {
      "cell_type": "markdown",
      "metadata": {
        "id": "uRmrmSLsMmeI"
      },
      "source": [
        "Inicialmente, importaremos as bibliotecas necessárias para o desenvolvimento deste estudo:"
      ]
    },
    {
      "cell_type": "code",
      "metadata": {
        "id": "FCfGaKUMFCY2"
      },
      "source": [
        "import pandas as pd\n",
        "import numpy as np\n",
        "import datetime as dt\n",
        "\n",
        "from statistics import variance, mean, stdev\n",
        "from statsmodels.api import OLS\n",
        "from statsmodels.tools import add_constant\n",
        "\n",
        "import pandas_datareader as web\n",
        "import matplotlib.pyplot as plt"
      ],
      "execution_count": null,
      "outputs": []
    },
    {
      "cell_type": "markdown",
      "metadata": {
        "id": "CqrvwREiUlpn"
      },
      "source": [
        "#Funções Úteis"
      ]
    },
    {
      "cell_type": "markdown",
      "metadata": {
        "id": "Cqo6WXv9UoLk"
      },
      "source": [
        "Em seguida, declararemos as algumas funções úteis que usaremos durante o estudo."
      ]
    },
    {
      "cell_type": "code",
      "metadata": {
        "id": "51zajWBYWZon"
      },
      "source": [
        "def retornos_mensais(meu_patrimonio):\n",
        "  retornos = [0]\n",
        "  for i in range(1, len(meu_patrimonio)):\n",
        "    retornos.append(meu_patrimonio[i]/meu_patrimonio[i-1] -1)\n",
        "  return np.array(retornos)\n",
        "\n",
        "#Para quem deseja obter maior performance, sugere-se utilizar lambda expressions como:\n",
        "retornos_mensais = lambda meu_patrimonio : np.array([0] + [meu_patrimonio[i]/meu_patrimonio[i-1] -1 for i in range(1, len(meu_patrimonio)) ])\n",
        "#Esta função criada na linha 8 possui a mesma semântica daquela criada da forma padrão (utilizando 'def')"
      ],
      "execution_count": null,
      "outputs": []
    },
    {
      "cell_type": "code",
      "metadata": {
        "id": "9Y0mQ0yCWa5Q"
      },
      "source": [
        "def retornos_acumulados(retornos_mensais):\n",
        "  capital = 1\n",
        "  retornos = []\n",
        "  for r in retornos_mensais:\n",
        "    capital += capital*r\n",
        "    retornos.append(capital-1)\n",
        "  return retornos"
      ],
      "execution_count": null,
      "outputs": []
    },
    {
      "cell_type": "code",
      "metadata": {
        "id": "Jyx6pyuoWa2z"
      },
      "source": [
        "def retornos_com_aportes(meu_patrimonio, aporte):\n",
        "  retornos = [0]\n",
        "  for i in range(1, len(meu_patrimonio)):\n",
        "    retornos.append((meu_patrimonio[i]-aporte) / meu_patrimonio[i-1] -1)\n",
        "  return retornos"
      ],
      "execution_count": null,
      "outputs": []
    },
    {
      "cell_type": "markdown",
      "metadata": {
        "id": "5bn_cFhh0Lep"
      },
      "source": [
        "#Patrimônio, Benchmark e Selic"
      ]
    },
    {
      "cell_type": "markdown",
      "metadata": {
        "id": "G4v1iqFZ0Xrq"
      },
      "source": [
        "No decorrer deste estudo, utilizaremos constantemente esses dados. O patrimônio consiste no volume de dinheiro existente nas nossas carteiras (utilizaremos duas: um com aportes mensais e outro sem); o *benchmark* é o retorno do mercado, representado pelo Ibovespa; e a taxa básica de juros do Brasil, ou taxa Selic. Tais dados terão frequência mensal neste artigo."
      ]
    },
    {
      "cell_type": "markdown",
      "metadata": {
        "id": "lJx0MZ3R1V-S"
      },
      "source": [
        "Dessa forma, declararemos as variáveis de patrimônio e benchmark:"
      ]
    },
    {
      "cell_type": "code",
      "metadata": {
        "id": "HuzhKAcu1ftK"
      },
      "source": [
        "#Declaração de um patrimônio fictício\n",
        "patrimonio = pd.DataFrame({\"mes\":range(1, 13), \"evolucao\" : [100000.0, 112787.96, 121816.85, 132210.96, 144643.06, 138646.95, 128718.55, 128120.36, 145628.81, 157053.58, 153182.50, 148555.50]})\n",
        "patrimonio_com_aportes = pd.DataFrame({\"mes\":range(1, 13), \"evolucao\" : [100000, 115355.94, 126432.02, 138439.70, 156719.23, 152143.25, 143935.61, 146125.70, 168232.67, 185967.01, 190168.15, 179810.12]})\n",
        "ibov = web.get_data_yahoo(\"^BVSP\", start=\"2020-03-01\", end=\"2021-02-28\")[\"Adj Close\"].resample(\"M\").pad()"
      ],
      "execution_count": null,
      "outputs": []
    },
    {
      "cell_type": "markdown",
      "metadata": {
        "id": "VEeUzcwW2JsP"
      },
      "source": [
        "A taxa Selic precisa de um processamento maior nos dados, pois a buscaremos através da API do Banco Central do Brasil e o formato de entrega é diferente do utilizado neste estudo."
      ]
    },
    {
      "cell_type": "code",
      "metadata": {
        "id": "0QhTAevE2BsH"
      },
      "source": [
        "def reformata_datas(datas):\n",
        "  \"\"\"\n",
        "    Reformata datas do padrão dd/mm/aaaa para o tipo datetime.date\n",
        "    retorna lista de datetime.date\n",
        "  \"\"\"\n",
        "\n",
        "  new_datas = []\n",
        "  for data in datas:\n",
        "    d = data.split(\"/\")\n",
        "    d = dt.datetime(int(d[2]), int(d[1]), int(d[0]))\n",
        "    new_datas.append(d)\n",
        "  return new_datas"
      ],
      "execution_count": null,
      "outputs": []
    },
    {
      "cell_type": "code",
      "metadata": {
        "id": "Za-rjPj32Aj9"
      },
      "source": [
        "def retornos_mensais_selic(selic):\n",
        "  \"\"\"\n",
        "    Calcula os retornos mensais da selic\n",
        "    retorna lista de retornos\n",
        "  \"\"\"\n",
        "  last_date = selic[\"data\"].iloc[0]\n",
        "  retornos = []\n",
        "  selic_mensal = []\n",
        "\n",
        "  for i in range(selic.shape[0]):\n",
        "    if selic[\"data\"].iloc[i].month == last_date.month:\n",
        "      retornos.append(selic[\"valor\"].iloc[i])\n",
        "    else:\n",
        "      last_date = selic[\"data\"].iloc[i]\n",
        "      selic_mensal.append(retornos_acumulados(retornos)[-1])\n",
        "      retornos = []\n",
        "  if retornos != []:\n",
        "    selic_mensal.append(retornos_acumulados(retornos)[-1])\n",
        "  return selic_mensal[1:len(selic_mensal)]\n",
        "\n",
        "def busca_selic(inicio, fim):\n",
        "  \"\"\"\n",
        "    Busca dados da SELIC\n",
        "    Retorna lista de retornos mensais\n",
        "  \"\"\"\n",
        "  url = f\"http://api.bcb.gov.br/dados/serie/bcdata.sgs.11/dados?formato=csv&dataInicial={inicio}&dataFinal={fim}\"\n",
        "  selic = pd.read_csv(url, sep=\";\")\n",
        "  selic[\"valor\"] = [float(str(x).replace(\",\", \".\"))/100 for x in selic[\"valor\"]]\n",
        "  selic[\"data\"] = reformata_datas(selic['data'])\n",
        "  selic = np.array(retornos_mensais_selic(selic))\n",
        "  return selic"
      ],
      "execution_count": null,
      "outputs": []
    },
    {
      "cell_type": "code",
      "metadata": {
        "id": "ufx3w6Zs4fCA"
      },
      "source": [
        "selic = busca_selic(\"01/03/2020\", \"28/02/2021\")"
      ],
      "execution_count": null,
      "outputs": []
    },
    {
      "cell_type": "markdown",
      "metadata": {
        "id": "XLCP8vNjNwmV"
      },
      "source": [
        "# Cálculo de Retornos Absolutos"
      ]
    },
    {
      "cell_type": "markdown",
      "metadata": {
        "id": "g02qQD8uamq3"
      },
      "source": [
        "##Carteira Sem aportes"
      ]
    },
    {
      "cell_type": "markdown",
      "metadata": {
        "id": "9uHnJ_31N7Tv"
      },
      "source": [
        "Suponha que o temos uma carteira de investimentos e que nosso patrimônio evoluiu da seguinte forma durante os últimos 12 meses:"
      ]
    },
    {
      "cell_type": "code",
      "metadata": {
        "colab": {
          "base_uri": "https://localhost:8080/",
          "height": 421
        },
        "id": "Qrey6YPo5TxX",
        "outputId": "2a2a5159-fe5e-4daa-c75f-cbe0ec005c9a"
      },
      "source": [
        "patrimonio"
      ],
      "execution_count": null,
      "outputs": [
        {
          "output_type": "execute_result",
          "data": {
            "text/html": [
              "<div>\n",
              "<style scoped>\n",
              "    .dataframe tbody tr th:only-of-type {\n",
              "        vertical-align: middle;\n",
              "    }\n",
              "\n",
              "    .dataframe tbody tr th {\n",
              "        vertical-align: top;\n",
              "    }\n",
              "\n",
              "    .dataframe thead th {\n",
              "        text-align: right;\n",
              "    }\n",
              "</style>\n",
              "<table border=\"1\" class=\"dataframe\">\n",
              "  <thead>\n",
              "    <tr style=\"text-align: right;\">\n",
              "      <th></th>\n",
              "      <th>mes</th>\n",
              "      <th>evolucao</th>\n",
              "    </tr>\n",
              "  </thead>\n",
              "  <tbody>\n",
              "    <tr>\n",
              "      <th>0</th>\n",
              "      <td>1</td>\n",
              "      <td>100000.00</td>\n",
              "    </tr>\n",
              "    <tr>\n",
              "      <th>1</th>\n",
              "      <td>2</td>\n",
              "      <td>112787.96</td>\n",
              "    </tr>\n",
              "    <tr>\n",
              "      <th>2</th>\n",
              "      <td>3</td>\n",
              "      <td>121816.85</td>\n",
              "    </tr>\n",
              "    <tr>\n",
              "      <th>3</th>\n",
              "      <td>4</td>\n",
              "      <td>132210.96</td>\n",
              "    </tr>\n",
              "    <tr>\n",
              "      <th>4</th>\n",
              "      <td>5</td>\n",
              "      <td>144643.06</td>\n",
              "    </tr>\n",
              "    <tr>\n",
              "      <th>5</th>\n",
              "      <td>6</td>\n",
              "      <td>138646.95</td>\n",
              "    </tr>\n",
              "    <tr>\n",
              "      <th>6</th>\n",
              "      <td>7</td>\n",
              "      <td>128718.55</td>\n",
              "    </tr>\n",
              "    <tr>\n",
              "      <th>7</th>\n",
              "      <td>8</td>\n",
              "      <td>128120.36</td>\n",
              "    </tr>\n",
              "    <tr>\n",
              "      <th>8</th>\n",
              "      <td>9</td>\n",
              "      <td>145628.81</td>\n",
              "    </tr>\n",
              "    <tr>\n",
              "      <th>9</th>\n",
              "      <td>10</td>\n",
              "      <td>157053.58</td>\n",
              "    </tr>\n",
              "    <tr>\n",
              "      <th>10</th>\n",
              "      <td>11</td>\n",
              "      <td>153182.50</td>\n",
              "    </tr>\n",
              "    <tr>\n",
              "      <th>11</th>\n",
              "      <td>12</td>\n",
              "      <td>148555.50</td>\n",
              "    </tr>\n",
              "  </tbody>\n",
              "</table>\n",
              "</div>"
            ],
            "text/plain": [
              "    mes   evolucao\n",
              "0     1  100000.00\n",
              "1     2  112787.96\n",
              "2     3  121816.85\n",
              "3     4  132210.96\n",
              "4     5  144643.06\n",
              "5     6  138646.95\n",
              "6     7  128718.55\n",
              "7     8  128120.36\n",
              "8     9  145628.81\n",
              "9    10  157053.58\n",
              "10   11  153182.50\n",
              "11   12  148555.50"
            ]
          },
          "metadata": {
            "tags": []
          },
          "execution_count": 26
        }
      ]
    },
    {
      "cell_type": "markdown",
      "metadata": {
        "id": "vWBwiw_rRq4X"
      },
      "source": [
        "Para calcular os retornos mensais absolutos de uma carteira, basta utilizar a equação:\n",
        "\n",
        "**Retorno = patrimônio atual / patrimônio anterior -1**"
      ]
    },
    {
      "cell_type": "markdown",
      "metadata": {
        "id": "nLUoCZmyWVhf"
      },
      "source": [
        "Com isso, podemos calcular as rentabilidades mensais aplicando a função *retornos_mensais* (que implementa a fórmula acima)."
      ]
    },
    {
      "cell_type": "code",
      "metadata": {
        "colab": {
          "base_uri": "https://localhost:8080/",
          "height": 421
        },
        "id": "pXIlVHe4UHKM",
        "outputId": "9cb084cf-7937-4ba4-9ca7-e5b2586a2692"
      },
      "source": [
        "patrimonio[\"retornos\"] = retornos_mensais(patrimonio[\"evolucao\"])\n",
        "patrimonio"
      ],
      "execution_count": null,
      "outputs": [
        {
          "output_type": "execute_result",
          "data": {
            "text/html": [
              "<div>\n",
              "<style scoped>\n",
              "    .dataframe tbody tr th:only-of-type {\n",
              "        vertical-align: middle;\n",
              "    }\n",
              "\n",
              "    .dataframe tbody tr th {\n",
              "        vertical-align: top;\n",
              "    }\n",
              "\n",
              "    .dataframe thead th {\n",
              "        text-align: right;\n",
              "    }\n",
              "</style>\n",
              "<table border=\"1\" class=\"dataframe\">\n",
              "  <thead>\n",
              "    <tr style=\"text-align: right;\">\n",
              "      <th></th>\n",
              "      <th>mes</th>\n",
              "      <th>evolucao</th>\n",
              "      <th>retornos</th>\n",
              "    </tr>\n",
              "  </thead>\n",
              "  <tbody>\n",
              "    <tr>\n",
              "      <th>0</th>\n",
              "      <td>1</td>\n",
              "      <td>100000.00</td>\n",
              "      <td>0.000000</td>\n",
              "    </tr>\n",
              "    <tr>\n",
              "      <th>1</th>\n",
              "      <td>2</td>\n",
              "      <td>112787.96</td>\n",
              "      <td>0.127880</td>\n",
              "    </tr>\n",
              "    <tr>\n",
              "      <th>2</th>\n",
              "      <td>3</td>\n",
              "      <td>121816.85</td>\n",
              "      <td>0.080052</td>\n",
              "    </tr>\n",
              "    <tr>\n",
              "      <th>3</th>\n",
              "      <td>4</td>\n",
              "      <td>132210.96</td>\n",
              "      <td>0.085326</td>\n",
              "    </tr>\n",
              "    <tr>\n",
              "      <th>4</th>\n",
              "      <td>5</td>\n",
              "      <td>144643.06</td>\n",
              "      <td>0.094032</td>\n",
              "    </tr>\n",
              "    <tr>\n",
              "      <th>5</th>\n",
              "      <td>6</td>\n",
              "      <td>138646.95</td>\n",
              "      <td>-0.041455</td>\n",
              "    </tr>\n",
              "    <tr>\n",
              "      <th>6</th>\n",
              "      <td>7</td>\n",
              "      <td>128718.55</td>\n",
              "      <td>-0.071609</td>\n",
              "    </tr>\n",
              "    <tr>\n",
              "      <th>7</th>\n",
              "      <td>8</td>\n",
              "      <td>128120.36</td>\n",
              "      <td>-0.004647</td>\n",
              "    </tr>\n",
              "    <tr>\n",
              "      <th>8</th>\n",
              "      <td>9</td>\n",
              "      <td>145628.81</td>\n",
              "      <td>0.136656</td>\n",
              "    </tr>\n",
              "    <tr>\n",
              "      <th>9</th>\n",
              "      <td>10</td>\n",
              "      <td>157053.58</td>\n",
              "      <td>0.078451</td>\n",
              "    </tr>\n",
              "    <tr>\n",
              "      <th>10</th>\n",
              "      <td>11</td>\n",
              "      <td>153182.50</td>\n",
              "      <td>-0.024648</td>\n",
              "    </tr>\n",
              "    <tr>\n",
              "      <th>11</th>\n",
              "      <td>12</td>\n",
              "      <td>148555.50</td>\n",
              "      <td>-0.030206</td>\n",
              "    </tr>\n",
              "  </tbody>\n",
              "</table>\n",
              "</div>"
            ],
            "text/plain": [
              "    mes   evolucao  retornos\n",
              "0     1  100000.00  0.000000\n",
              "1     2  112787.96  0.127880\n",
              "2     3  121816.85  0.080052\n",
              "3     4  132210.96  0.085326\n",
              "4     5  144643.06  0.094032\n",
              "5     6  138646.95 -0.041455\n",
              "6     7  128718.55 -0.071609\n",
              "7     8  128120.36 -0.004647\n",
              "8     9  145628.81  0.136656\n",
              "9    10  157053.58  0.078451\n",
              "10   11  153182.50 -0.024648\n",
              "11   12  148555.50 -0.030206"
            ]
          },
          "metadata": {
            "tags": []
          },
          "execution_count": 27
        }
      ]
    },
    {
      "cell_type": "markdown",
      "metadata": {
        "id": "PprZ5V5JXF-w"
      },
      "source": [
        "Além disso, para verificar a rentabilidade acumulada do nosso patrimônio, iremos aplicar a fórmula do retorno considerando sempre o **patrimônio anterior** como o inicial (patrimônio do mês 1). Essa descrição está implementada na função *retornos_acumulados* e, ao aplicá-la, obtemos:"
      ]
    },
    {
      "cell_type": "code",
      "metadata": {
        "colab": {
          "base_uri": "https://localhost:8080/",
          "height": 421
        },
        "id": "VgIoybNoY2fx",
        "outputId": "ebb74ccf-99ce-4c65-bd3c-0784ddaaddf5"
      },
      "source": [
        "patrimonio[\"acumulado\"] = retornos_acumulados(patrimonio[\"retornos\"])\n",
        "patrimonio"
      ],
      "execution_count": null,
      "outputs": [
        {
          "output_type": "execute_result",
          "data": {
            "text/html": [
              "<div>\n",
              "<style scoped>\n",
              "    .dataframe tbody tr th:only-of-type {\n",
              "        vertical-align: middle;\n",
              "    }\n",
              "\n",
              "    .dataframe tbody tr th {\n",
              "        vertical-align: top;\n",
              "    }\n",
              "\n",
              "    .dataframe thead th {\n",
              "        text-align: right;\n",
              "    }\n",
              "</style>\n",
              "<table border=\"1\" class=\"dataframe\">\n",
              "  <thead>\n",
              "    <tr style=\"text-align: right;\">\n",
              "      <th></th>\n",
              "      <th>mes</th>\n",
              "      <th>evolucao</th>\n",
              "      <th>retornos</th>\n",
              "      <th>acumulado</th>\n",
              "    </tr>\n",
              "  </thead>\n",
              "  <tbody>\n",
              "    <tr>\n",
              "      <th>0</th>\n",
              "      <td>1</td>\n",
              "      <td>100000.00</td>\n",
              "      <td>0.000000</td>\n",
              "      <td>0.000000</td>\n",
              "    </tr>\n",
              "    <tr>\n",
              "      <th>1</th>\n",
              "      <td>2</td>\n",
              "      <td>112787.96</td>\n",
              "      <td>0.127880</td>\n",
              "      <td>0.127880</td>\n",
              "    </tr>\n",
              "    <tr>\n",
              "      <th>2</th>\n",
              "      <td>3</td>\n",
              "      <td>121816.85</td>\n",
              "      <td>0.080052</td>\n",
              "      <td>0.218168</td>\n",
              "    </tr>\n",
              "    <tr>\n",
              "      <th>3</th>\n",
              "      <td>4</td>\n",
              "      <td>132210.96</td>\n",
              "      <td>0.085326</td>\n",
              "      <td>0.322110</td>\n",
              "    </tr>\n",
              "    <tr>\n",
              "      <th>4</th>\n",
              "      <td>5</td>\n",
              "      <td>144643.06</td>\n",
              "      <td>0.094032</td>\n",
              "      <td>0.446431</td>\n",
              "    </tr>\n",
              "    <tr>\n",
              "      <th>5</th>\n",
              "      <td>6</td>\n",
              "      <td>138646.95</td>\n",
              "      <td>-0.041455</td>\n",
              "      <td>0.386470</td>\n",
              "    </tr>\n",
              "    <tr>\n",
              "      <th>6</th>\n",
              "      <td>7</td>\n",
              "      <td>128718.55</td>\n",
              "      <td>-0.071609</td>\n",
              "      <td>0.287185</td>\n",
              "    </tr>\n",
              "    <tr>\n",
              "      <th>7</th>\n",
              "      <td>8</td>\n",
              "      <td>128120.36</td>\n",
              "      <td>-0.004647</td>\n",
              "      <td>0.281204</td>\n",
              "    </tr>\n",
              "    <tr>\n",
              "      <th>8</th>\n",
              "      <td>9</td>\n",
              "      <td>145628.81</td>\n",
              "      <td>0.136656</td>\n",
              "      <td>0.456288</td>\n",
              "    </tr>\n",
              "    <tr>\n",
              "      <th>9</th>\n",
              "      <td>10</td>\n",
              "      <td>157053.58</td>\n",
              "      <td>0.078451</td>\n",
              "      <td>0.570536</td>\n",
              "    </tr>\n",
              "    <tr>\n",
              "      <th>10</th>\n",
              "      <td>11</td>\n",
              "      <td>153182.50</td>\n",
              "      <td>-0.024648</td>\n",
              "      <td>0.531825</td>\n",
              "    </tr>\n",
              "    <tr>\n",
              "      <th>11</th>\n",
              "      <td>12</td>\n",
              "      <td>148555.50</td>\n",
              "      <td>-0.030206</td>\n",
              "      <td>0.485555</td>\n",
              "    </tr>\n",
              "  </tbody>\n",
              "</table>\n",
              "</div>"
            ],
            "text/plain": [
              "    mes   evolucao  retornos  acumulado\n",
              "0     1  100000.00  0.000000   0.000000\n",
              "1     2  112787.96  0.127880   0.127880\n",
              "2     3  121816.85  0.080052   0.218168\n",
              "3     4  132210.96  0.085326   0.322110\n",
              "4     5  144643.06  0.094032   0.446431\n",
              "5     6  138646.95 -0.041455   0.386470\n",
              "6     7  128718.55 -0.071609   0.287185\n",
              "7     8  128120.36 -0.004647   0.281204\n",
              "8     9  145628.81  0.136656   0.456288\n",
              "9    10  157053.58  0.078451   0.570536\n",
              "10   11  153182.50 -0.024648   0.531825\n",
              "11   12  148555.50 -0.030206   0.485555"
            ]
          },
          "metadata": {
            "tags": []
          },
          "execution_count": 28
        }
      ]
    },
    {
      "cell_type": "markdown",
      "metadata": {
        "id": "d5uAswTHZ-b-"
      },
      "source": [
        "##Medição com aportes mensais"
      ]
    },
    {
      "cell_type": "markdown",
      "metadata": {
        "id": "wTUkNz55aD4U"
      },
      "source": [
        "Para tornar o caso mais realista, iremos modificar nossa regra de aportes patrimônio para um aporte mensal de R$ 1000,00, sendo realizado após o cálculo da rentabilidade de cada mês. Agora, temos um patrimônio que obteve a seguinte evolução:"
      ]
    },
    {
      "cell_type": "code",
      "metadata": {
        "colab": {
          "base_uri": "https://localhost:8080/",
          "height": 421
        },
        "id": "juLEehD758PK",
        "outputId": "3e70b40b-0bdb-4fb8-cabf-3681575b9706"
      },
      "source": [
        "patrimonio_com_aportes"
      ],
      "execution_count": null,
      "outputs": [
        {
          "output_type": "execute_result",
          "data": {
            "text/html": [
              "<div>\n",
              "<style scoped>\n",
              "    .dataframe tbody tr th:only-of-type {\n",
              "        vertical-align: middle;\n",
              "    }\n",
              "\n",
              "    .dataframe tbody tr th {\n",
              "        vertical-align: top;\n",
              "    }\n",
              "\n",
              "    .dataframe thead th {\n",
              "        text-align: right;\n",
              "    }\n",
              "</style>\n",
              "<table border=\"1\" class=\"dataframe\">\n",
              "  <thead>\n",
              "    <tr style=\"text-align: right;\">\n",
              "      <th></th>\n",
              "      <th>mes</th>\n",
              "      <th>evolucao</th>\n",
              "    </tr>\n",
              "  </thead>\n",
              "  <tbody>\n",
              "    <tr>\n",
              "      <th>0</th>\n",
              "      <td>1</td>\n",
              "      <td>100000.00</td>\n",
              "    </tr>\n",
              "    <tr>\n",
              "      <th>1</th>\n",
              "      <td>2</td>\n",
              "      <td>115355.94</td>\n",
              "    </tr>\n",
              "    <tr>\n",
              "      <th>2</th>\n",
              "      <td>3</td>\n",
              "      <td>126432.02</td>\n",
              "    </tr>\n",
              "    <tr>\n",
              "      <th>3</th>\n",
              "      <td>4</td>\n",
              "      <td>138439.70</td>\n",
              "    </tr>\n",
              "    <tr>\n",
              "      <th>4</th>\n",
              "      <td>5</td>\n",
              "      <td>156719.23</td>\n",
              "    </tr>\n",
              "    <tr>\n",
              "      <th>5</th>\n",
              "      <td>6</td>\n",
              "      <td>152143.25</td>\n",
              "    </tr>\n",
              "    <tr>\n",
              "      <th>6</th>\n",
              "      <td>7</td>\n",
              "      <td>143935.61</td>\n",
              "    </tr>\n",
              "    <tr>\n",
              "      <th>7</th>\n",
              "      <td>8</td>\n",
              "      <td>146125.70</td>\n",
              "    </tr>\n",
              "    <tr>\n",
              "      <th>8</th>\n",
              "      <td>9</td>\n",
              "      <td>168232.67</td>\n",
              "    </tr>\n",
              "    <tr>\n",
              "      <th>9</th>\n",
              "      <td>10</td>\n",
              "      <td>185967.01</td>\n",
              "    </tr>\n",
              "    <tr>\n",
              "      <th>10</th>\n",
              "      <td>11</td>\n",
              "      <td>190168.15</td>\n",
              "    </tr>\n",
              "    <tr>\n",
              "      <th>11</th>\n",
              "      <td>12</td>\n",
              "      <td>179810.12</td>\n",
              "    </tr>\n",
              "  </tbody>\n",
              "</table>\n",
              "</div>"
            ],
            "text/plain": [
              "    mes   evolucao\n",
              "0     1  100000.00\n",
              "1     2  115355.94\n",
              "2     3  126432.02\n",
              "3     4  138439.70\n",
              "4     5  156719.23\n",
              "5     6  152143.25\n",
              "6     7  143935.61\n",
              "7     8  146125.70\n",
              "8     9  168232.67\n",
              "9    10  185967.01\n",
              "10   11  190168.15\n",
              "11   12  179810.12"
            ]
          },
          "metadata": {
            "tags": []
          },
          "execution_count": 29
        }
      ]
    },
    {
      "cell_type": "markdown",
      "metadata": {
        "id": "kdp33pifb8Qb"
      },
      "source": [
        "Se utilizarmos a função criada previamente para calcular os retornos, obteremos o seguinte resultado:"
      ]
    },
    {
      "cell_type": "code",
      "metadata": {
        "colab": {
          "base_uri": "https://localhost:8080/"
        },
        "id": "CMLTydApcI6u",
        "outputId": "cf74957f-dced-47f2-d083-c74bc89bca7a"
      },
      "source": [
        "print(f\"O retorno acumulado dos últimos 12 meses é {retornos_acumulados(retornos_mensais(patrimonio_com_aportes['evolucao']))[-1]*100 : .2f}%\")"
      ],
      "execution_count": null,
      "outputs": [
        {
          "output_type": "stream",
          "text": [
            "O retorno acumulado dos últimos 12 meses é  79.81%\n"
          ],
          "name": "stdout"
        }
      ]
    },
    {
      "cell_type": "markdown",
      "metadata": {
        "id": "hJ4MYcmgcwrd"
      },
      "source": [
        "Contudo, obtivemos aqui um **resultado falso**, pois há o efeito do incremento de R$ 12 mil pela sucessão de aportes. Sabendo disso, deveremos, portanto, desconsiderar o valor do aporte do mês seguinte, conforme a equação:\n",
        "\n",
        "**retorno = (patrimônio atual - aporte) / patrimônio anterior -1**\n",
        "\n",
        "Tal equação está implementada na função *retornos_com_aportes*."
      ]
    },
    {
      "cell_type": "markdown",
      "metadata": {
        "id": "stjEJC3KkKV5"
      },
      "source": [
        "Aplicando a função, obtemos o seguintes resultados mensais:\n"
      ]
    },
    {
      "cell_type": "code",
      "metadata": {
        "colab": {
          "base_uri": "https://localhost:8080/",
          "height": 421
        },
        "id": "0Tb5dJJbj28l",
        "outputId": "d9b5a192-a46c-4aa2-b9c6-a2c1dded73e8"
      },
      "source": [
        "patrimonio_com_aportes[\"retornos\"] = retornos_com_aportes(patrimonio_com_aportes[\"evolucao\"], aporte=1000)\n",
        "patrimonio_com_aportes"
      ],
      "execution_count": null,
      "outputs": [
        {
          "output_type": "execute_result",
          "data": {
            "text/html": [
              "<div>\n",
              "<style scoped>\n",
              "    .dataframe tbody tr th:only-of-type {\n",
              "        vertical-align: middle;\n",
              "    }\n",
              "\n",
              "    .dataframe tbody tr th {\n",
              "        vertical-align: top;\n",
              "    }\n",
              "\n",
              "    .dataframe thead th {\n",
              "        text-align: right;\n",
              "    }\n",
              "</style>\n",
              "<table border=\"1\" class=\"dataframe\">\n",
              "  <thead>\n",
              "    <tr style=\"text-align: right;\">\n",
              "      <th></th>\n",
              "      <th>mes</th>\n",
              "      <th>evolucao</th>\n",
              "      <th>retornos</th>\n",
              "    </tr>\n",
              "  </thead>\n",
              "  <tbody>\n",
              "    <tr>\n",
              "      <th>0</th>\n",
              "      <td>1</td>\n",
              "      <td>100000.00</td>\n",
              "      <td>0.000000</td>\n",
              "    </tr>\n",
              "    <tr>\n",
              "      <th>1</th>\n",
              "      <td>2</td>\n",
              "      <td>115355.94</td>\n",
              "      <td>0.143559</td>\n",
              "    </tr>\n",
              "    <tr>\n",
              "      <th>2</th>\n",
              "      <td>3</td>\n",
              "      <td>126432.02</td>\n",
              "      <td>0.087348</td>\n",
              "    </tr>\n",
              "    <tr>\n",
              "      <th>3</th>\n",
              "      <td>4</td>\n",
              "      <td>138439.70</td>\n",
              "      <td>0.087064</td>\n",
              "    </tr>\n",
              "    <tr>\n",
              "      <th>4</th>\n",
              "      <td>5</td>\n",
              "      <td>156719.23</td>\n",
              "      <td>0.124816</td>\n",
              "    </tr>\n",
              "    <tr>\n",
              "      <th>5</th>\n",
              "      <td>6</td>\n",
              "      <td>152143.25</td>\n",
              "      <td>-0.035579</td>\n",
              "    </tr>\n",
              "    <tr>\n",
              "      <th>6</th>\n",
              "      <td>7</td>\n",
              "      <td>143935.61</td>\n",
              "      <td>-0.060520</td>\n",
              "    </tr>\n",
              "    <tr>\n",
              "      <th>7</th>\n",
              "      <td>8</td>\n",
              "      <td>146125.70</td>\n",
              "      <td>0.008268</td>\n",
              "    </tr>\n",
              "    <tr>\n",
              "      <th>8</th>\n",
              "      <td>9</td>\n",
              "      <td>168232.67</td>\n",
              "      <td>0.144444</td>\n",
              "    </tr>\n",
              "    <tr>\n",
              "      <th>9</th>\n",
              "      <td>10</td>\n",
              "      <td>185967.01</td>\n",
              "      <td>0.099471</td>\n",
              "    </tr>\n",
              "    <tr>\n",
              "      <th>10</th>\n",
              "      <td>11</td>\n",
              "      <td>190168.15</td>\n",
              "      <td>0.017213</td>\n",
              "    </tr>\n",
              "    <tr>\n",
              "      <th>11</th>\n",
              "      <td>12</td>\n",
              "      <td>179810.12</td>\n",
              "      <td>-0.059726</td>\n",
              "    </tr>\n",
              "  </tbody>\n",
              "</table>\n",
              "</div>"
            ],
            "text/plain": [
              "    mes   evolucao  retornos\n",
              "0     1  100000.00  0.000000\n",
              "1     2  115355.94  0.143559\n",
              "2     3  126432.02  0.087348\n",
              "3     4  138439.70  0.087064\n",
              "4     5  156719.23  0.124816\n",
              "5     6  152143.25 -0.035579\n",
              "6     7  143935.61 -0.060520\n",
              "7     8  146125.70  0.008268\n",
              "8     9  168232.67  0.144444\n",
              "9    10  185967.01  0.099471\n",
              "10   11  190168.15  0.017213\n",
              "11   12  179810.12 -0.059726"
            ]
          },
          "metadata": {
            "tags": []
          },
          "execution_count": 31
        }
      ]
    },
    {
      "cell_type": "markdown",
      "metadata": {
        "id": "q91mhxWujPbI"
      },
      "source": [
        "Para mensurar os retornos acumulados, aplicaremos a função já criada."
      ]
    },
    {
      "cell_type": "code",
      "metadata": {
        "colab": {
          "base_uri": "https://localhost:8080/",
          "height": 421
        },
        "id": "uxkwis7zlL15",
        "outputId": "42a74e6d-2d04-4e05-e4b9-88ec12a109f9"
      },
      "source": [
        "patrimonio_com_aportes[\"acumulado\"] = retornos_acumulados(patrimonio_com_aportes[\"retornos\"])\n",
        "patrimonio_com_aportes"
      ],
      "execution_count": null,
      "outputs": [
        {
          "output_type": "execute_result",
          "data": {
            "text/html": [
              "<div>\n",
              "<style scoped>\n",
              "    .dataframe tbody tr th:only-of-type {\n",
              "        vertical-align: middle;\n",
              "    }\n",
              "\n",
              "    .dataframe tbody tr th {\n",
              "        vertical-align: top;\n",
              "    }\n",
              "\n",
              "    .dataframe thead th {\n",
              "        text-align: right;\n",
              "    }\n",
              "</style>\n",
              "<table border=\"1\" class=\"dataframe\">\n",
              "  <thead>\n",
              "    <tr style=\"text-align: right;\">\n",
              "      <th></th>\n",
              "      <th>mes</th>\n",
              "      <th>evolucao</th>\n",
              "      <th>retornos</th>\n",
              "      <th>acumulado</th>\n",
              "    </tr>\n",
              "  </thead>\n",
              "  <tbody>\n",
              "    <tr>\n",
              "      <th>0</th>\n",
              "      <td>1</td>\n",
              "      <td>100000.00</td>\n",
              "      <td>0.000000</td>\n",
              "      <td>0.000000</td>\n",
              "    </tr>\n",
              "    <tr>\n",
              "      <th>1</th>\n",
              "      <td>2</td>\n",
              "      <td>115355.94</td>\n",
              "      <td>0.143559</td>\n",
              "      <td>0.143559</td>\n",
              "    </tr>\n",
              "    <tr>\n",
              "      <th>2</th>\n",
              "      <td>3</td>\n",
              "      <td>126432.02</td>\n",
              "      <td>0.087348</td>\n",
              "      <td>0.243447</td>\n",
              "    </tr>\n",
              "    <tr>\n",
              "      <th>3</th>\n",
              "      <td>4</td>\n",
              "      <td>138439.70</td>\n",
              "      <td>0.087064</td>\n",
              "      <td>0.351706</td>\n",
              "    </tr>\n",
              "    <tr>\n",
              "      <th>4</th>\n",
              "      <td>5</td>\n",
              "      <td>156719.23</td>\n",
              "      <td>0.124816</td>\n",
              "      <td>0.520421</td>\n",
              "    </tr>\n",
              "    <tr>\n",
              "      <th>5</th>\n",
              "      <td>6</td>\n",
              "      <td>152143.25</td>\n",
              "      <td>-0.035579</td>\n",
              "      <td>0.466325</td>\n",
              "    </tr>\n",
              "    <tr>\n",
              "      <th>6</th>\n",
              "      <td>7</td>\n",
              "      <td>143935.61</td>\n",
              "      <td>-0.060520</td>\n",
              "      <td>0.377584</td>\n",
              "    </tr>\n",
              "    <tr>\n",
              "      <th>7</th>\n",
              "      <td>8</td>\n",
              "      <td>146125.70</td>\n",
              "      <td>0.008268</td>\n",
              "      <td>0.388974</td>\n",
              "    </tr>\n",
              "    <tr>\n",
              "      <th>8</th>\n",
              "      <td>9</td>\n",
              "      <td>168232.67</td>\n",
              "      <td>0.144444</td>\n",
              "      <td>0.589603</td>\n",
              "    </tr>\n",
              "    <tr>\n",
              "      <th>9</th>\n",
              "      <td>10</td>\n",
              "      <td>185967.01</td>\n",
              "      <td>0.099471</td>\n",
              "      <td>0.747723</td>\n",
              "    </tr>\n",
              "    <tr>\n",
              "      <th>10</th>\n",
              "      <td>11</td>\n",
              "      <td>190168.15</td>\n",
              "      <td>0.017213</td>\n",
              "      <td>0.777808</td>\n",
              "    </tr>\n",
              "    <tr>\n",
              "      <th>11</th>\n",
              "      <td>12</td>\n",
              "      <td>179810.12</td>\n",
              "      <td>-0.059726</td>\n",
              "      <td>0.671626</td>\n",
              "    </tr>\n",
              "  </tbody>\n",
              "</table>\n",
              "</div>"
            ],
            "text/plain": [
              "    mes   evolucao  retornos  acumulado\n",
              "0     1  100000.00  0.000000   0.000000\n",
              "1     2  115355.94  0.143559   0.143559\n",
              "2     3  126432.02  0.087348   0.243447\n",
              "3     4  138439.70  0.087064   0.351706\n",
              "4     5  156719.23  0.124816   0.520421\n",
              "5     6  152143.25 -0.035579   0.466325\n",
              "6     7  143935.61 -0.060520   0.377584\n",
              "7     8  146125.70  0.008268   0.388974\n",
              "8     9  168232.67  0.144444   0.589603\n",
              "9    10  185967.01  0.099471   0.747723\n",
              "10   11  190168.15  0.017213   0.777808\n",
              "11   12  179810.12 -0.059726   0.671626"
            ]
          },
          "metadata": {
            "tags": []
          },
          "execution_count": 32
        }
      ]
    },
    {
      "cell_type": "markdown",
      "metadata": {
        "id": "9AFApHKgmeuv"
      },
      "source": [
        "Comparando os resultados, observamos que:"
      ]
    },
    {
      "cell_type": "code",
      "metadata": {
        "colab": {
          "base_uri": "https://localhost:8080/"
        },
        "id": "-hmNozZemFhG",
        "outputId": "b340798a-1fba-40a4-d9a5-65505b2d96fe"
      },
      "source": [
        "print(f\"O retorno acumulado ilusório foi {retornos_acumulados(retornos_mensais(patrimonio_com_aportes['evolucao']))[-1]*100: .2f}%\")\n",
        "print(f\"O retorno acumulado é, na verdade, {retornos_acumulados(patrimonio_com_aportes['retornos'])[-1]*100:.2f}%\" )\n"
      ],
      "execution_count": null,
      "outputs": [
        {
          "output_type": "stream",
          "text": [
            "O retorno acumulado ilusório foi  79.81%\n",
            "O retorno acumulado é, na verdade, 67.16%\n"
          ],
          "name": "stdout"
        }
      ]
    },
    {
      "cell_type": "markdown",
      "metadata": {
        "id": "3XCYebO1eNhx"
      },
      "source": [
        "#Retornos ajustados ao risco"
      ]
    },
    {
      "cell_type": "markdown",
      "metadata": {
        "id": "affVrJnimrAu"
      },
      "source": [
        "Já somos capazes de calcular os retornos mensais e acumulados da nossa carteira de investimentos. Agora vamos aplicar uma série de métricas para avaliar se a performance encontrada anteriormente é razoável para o risco assumido."
      ]
    },
    {
      "cell_type": "markdown",
      "metadata": {
        "id": "sIoEQHhWqtmt"
      },
      "source": [
        "##Risco"
      ]
    },
    {
      "cell_type": "markdown",
      "metadata": {
        "id": "zKgWOGeUquzf"
      },
      "source": [
        "A definição de risco é bastante discutida e pode variar de acordo com o tipo de investidor. Consideraremos, neste artigo, risco como a volatilidade do portfólio, que, por sua vez, será calculada pelo desvio padrão dos retornos."
      ]
    },
    {
      "cell_type": "markdown",
      "metadata": {
        "id": "kI13X9kAeQuC"
      },
      "source": [
        "##Métrica 1: Risco-Retorno"
      ]
    },
    {
      "cell_type": "markdown",
      "metadata": {
        "id": "PXk52JdmgA0g"
      },
      "source": [
        "A medida mais simples de retorno ajustado é o coeficiente de risco-retorno, calculado pela razão entre o retorno e o risco, conforme a equação:\n",
        "\n",
        "\n",
        "**Risco-Retorno = Retorno acumulado / risco do portfólio**\n"
      ]
    },
    {
      "cell_type": "markdown",
      "metadata": {
        "id": "_D_-Xfrj7B-V"
      },
      "source": [
        "Aplicando-a, obtemos:"
      ]
    },
    {
      "cell_type": "code",
      "metadata": {
        "id": "w210L8OKeNUO",
        "colab": {
          "base_uri": "https://localhost:8080/"
        },
        "outputId": "83e654d9-6946-4a72-ffb1-3bc53984a8a1"
      },
      "source": [
        "#Portfólio sem aportes\n",
        "risco = patrimonio['retornos'].std()\n",
        "retorno = patrimonio['acumulado'].iloc[-1] # índice -1 retorna o último elemento de uma lista ou pandas.Series\n",
        "\n",
        "risco_retorno = retorno / risco\n",
        "print(f\"A medida de risco-retorno para o portfólio sem aportes é {risco_retorno :.2f}, sendo o retorno = {retorno:.3f} e o risco = {risco:.3f}\")\n",
        "\n",
        "#Portfólio com aportes\n",
        "risco = patrimonio_com_aportes['retornos'].std()\n",
        "retorno = patrimonio_com_aportes['acumulado'].iloc[-1] # índice -1 retorna o último elemento de uma lista ou pandas.Series\n",
        "\n",
        "risco_retorno = retorno / risco\n",
        "print(f\"A medida de risco-retorno para o portfólio com aportes é {risco_retorno :.2f}, sendo o retorno = {retorno:.3f} e o risco = {risco:.3f}\")"
      ],
      "execution_count": null,
      "outputs": [
        {
          "output_type": "stream",
          "text": [
            "A medida de risco-retorno para o portfólio sem aportes é 6.76, sendo o retorno = 0.486 e o risco = 0.072\n",
            "A medida de risco-retorno para o portfólio com aportes é 8.72, sendo o retorno = 0.672 e o risco = 0.077\n"
          ],
          "name": "stdout"
        }
      ]
    },
    {
      "cell_type": "markdown",
      "metadata": {
        "id": "mTFJsc0whzlT"
      },
      "source": [
        "##Métrica 2: Índice de Sharpe"
      ]
    },
    {
      "cell_type": "markdown",
      "metadata": {
        "id": "ECCvNFcnr7Ce"
      },
      "source": [
        "William Sharpe considera que o prêmio pelo risco da carteira é medido pelo seu **excesso de retorno**, ou seja, pela à diferença entre o retorno do período e o retorno de uma taxa livre de risco. Com isso, o **Índice de Sharpe** (IS) é calculado pela **razão entre o excesso de retorno e o risco do portfólio**.\n",
        "\n",
        "> IS = excesso de retorno / risco do portfólio\n",
        "\n",
        "> excesso de retorno = retorno do portfólio - taxa livre de risco"
      ]
    },
    {
      "cell_type": "markdown",
      "metadata": {
        "id": "Gf3SmnVDuqKy"
      },
      "source": [
        "A taxa livre de risco é aproximada pela taxa de juros de curto prazo do país, pois tende a ser a taxa de mais baixo risco. No caso do Brasil - e para facilitar os cálculos - utilizaremos a taxa selic **mensal** entre março de 2020 e fevereiro de 2021 (considerando que os retornos do portfólio são referentes ao mesmo período)."
      ]
    },
    {
      "cell_type": "code",
      "metadata": {
        "id": "tAC2OIv48l0k",
        "colab": {
          "base_uri": "https://localhost:8080/"
        },
        "outputId": "f93d3b3d-93b3-4d40-fbe8-9e17aaa65cff"
      },
      "source": [
        "selic"
      ],
      "execution_count": null,
      "outputs": [
        {
          "output_type": "execute_result",
          "data": {
            "text/plain": [
              "array([0.0032218 , 0.00270659, 0.00221551, 0.00200964, 0.00185889,\n",
              "       0.00151435, 0.00149486, 0.00149486, 0.00142006, 0.00156966,\n",
              "       0.00142006, 0.00127049])"
            ]
          },
          "metadata": {
            "tags": []
          },
          "execution_count": 35
        }
      ]
    },
    {
      "cell_type": "markdown",
      "metadata": {
        "id": "ev8NRray9ega"
      },
      "source": [
        "A partir disso, podemos calcular o IS."
      ]
    },
    {
      "cell_type": "code",
      "metadata": {
        "id": "QL60r1yVh2hA",
        "colab": {
          "base_uri": "https://localhost:8080/"
        },
        "outputId": "fe314665-39f9-4399-fb29-d0dabcb70c7d"
      },
      "source": [
        "#Portfólio sem aportes\n",
        "excesso_retorno = patrimonio['acumulado'].iloc[-1] - retornos_acumulados(selic)[-1]\n",
        "risco = patrimonio['retornos'].std()\n",
        "\n",
        "IS = excesso_retorno / risco\n",
        "print(f\"O Índice de Sharpe para o portfólio sem aportes é {IS :.2f}, sendo o excesso de retorno = {excesso_retorno:.3f} e o risco = {risco:.3f}\")\n",
        "\n",
        "\n",
        "#Portfólio com aportes\n",
        "excesso_retorno = patrimonio_com_aportes['acumulado'].iloc[-1] - retornos_acumulados(selic)[-1]\n",
        "risco = patrimonio_com_aportes['retornos'].std()\n",
        "\n",
        "IS = excesso_retorno / risco\n",
        "print(f\"O Índice de Sharpe para o portfólio com aportes é {IS :.2f}, sendo o excesso de retorno = {excesso_retorno:.3f} e o risco = {risco:.3f}\")"
      ],
      "execution_count": null,
      "outputs": [
        {
          "output_type": "stream",
          "text": [
            "O Índice de Sharpe para o portfólio sem aportes é 6.45, sendo o excesso de retorno = 0.463 e o risco = 0.072\n",
            "O Índice de Sharpe para o portfólio com aportes é 8.43, sendo o excesso de retorno = 0.649 e o risco = 0.077\n"
          ],
          "name": "stdout"
        }
      ]
    },
    {
      "cell_type": "markdown",
      "metadata": {
        "id": "cr2d5hqt95a1"
      },
      "source": [
        "##Métrica 3: Índice de Treynor"
      ]
    },
    {
      "cell_type": "markdown",
      "metadata": {
        "id": "IPFLQKOL-AER"
      },
      "source": [
        "O Índice de Treynor (IT) é bastante parecido com o de Sharpe, entretanto, a sua medida de risco é o beta(β) do portfólio. Para calcular o β, basta aplicar a equação [6] - como discutido em [Calculando o Beta em Python](https://tc.com.br/tc-school/quant-investimentos/python-calcular-beta/) - e, em seguida, calculamos a razão entre o excesso de retorno e o β, conforme ilustra a equação [7].\n"
      ]
    },
    {
      "cell_type": "markdown",
      "metadata": {
        "id": "qF8X-6bMG2-_"
      },
      "source": [
        "β = cov(Rp, Rm) / var(Rm) [6]\n",
        "\n",
        "IT = excesso de retorno / β [7]"
      ]
    },
    {
      "cell_type": "markdown",
      "metadata": {
        "id": "vmtZ3owOHw2S"
      },
      "source": [
        "Sendo Rm os retornos do mercado e Rp os retornos do portfólio."
      ]
    },
    {
      "cell_type": "markdown",
      "metadata": {
        "id": "HykvuLF0HRNL"
      },
      "source": [
        "Consideraremos o Ibovespa como aproximação do mercado. Portanto, calcularemos seus retornos mensais (Rm) com as cotações já adquiridas. Além disso, criaremos uma função - utilizando *lambda expression* - para o cálculo do beta."
      ]
    },
    {
      "cell_type": "code",
      "metadata": {
        "id": "GwBcIXC_Ig6J",
        "colab": {
          "base_uri": "https://localhost:8080/"
        },
        "outputId": "63c23b8c-57be-4539-acef-351a49c03eac"
      },
      "source": [
        "ibov"
      ],
      "execution_count": null,
      "outputs": [
        {
          "output_type": "execute_result",
          "data": {
            "text/plain": [
              "Date\n",
              "2020-03-31     73020.0\n",
              "2020-04-30     80506.0\n",
              "2020-05-31     87403.0\n",
              "2020-06-30     95056.0\n",
              "2020-07-31    102912.0\n",
              "2020-08-31     99369.0\n",
              "2020-09-30     94603.0\n",
              "2020-10-31     93952.0\n",
              "2020-11-30    108888.0\n",
              "2020-12-31    119306.0\n",
              "2021-01-31    116007.0\n",
              "2021-02-28    110035.0\n",
              "Freq: M, Name: Adj Close, dtype: float64"
            ]
          },
          "metadata": {
            "tags": []
          },
          "execution_count": 37
        }
      ]
    },
    {
      "cell_type": "code",
      "metadata": {
        "colab": {
          "base_uri": "https://localhost:8080/"
        },
        "id": "Tz5Lm2Se8ZAR",
        "outputId": "745e80db-7578-4a73-a337-331e79a3d862"
      },
      "source": [
        "Rm = retornos_mensais(ibov)\n",
        "Rm"
      ],
      "execution_count": null,
      "outputs": [
        {
          "output_type": "execute_result",
          "data": {
            "text/plain": [
              "array([ 0.        ,  0.10251986,  0.08567063,  0.08755992,  0.08264602,\n",
              "       -0.03442747, -0.04796264, -0.00688139,  0.1589748 ,  0.09567629,\n",
              "       -0.02765158, -0.05147965])"
            ]
          },
          "metadata": {
            "tags": []
          },
          "execution_count": 38
        }
      ]
    },
    {
      "cell_type": "code",
      "metadata": {
        "id": "ojuiDe5s811a"
      },
      "source": [
        "beta = lambda Rp, Rm : np.cov(Rp,Rm)[0][1] / variance(Rm)"
      ],
      "execution_count": null,
      "outputs": []
    },
    {
      "cell_type": "code",
      "metadata": {
        "id": "dUk1CboN99l8",
        "colab": {
          "base_uri": "https://localhost:8080/"
        },
        "outputId": "f3a9756a-f58d-41fa-fc9a-ccd8f692c866"
      },
      "source": [
        "#Portfólio sem aportes\n",
        "excesso_retorno = patrimonio['acumulado'].iloc[-1] - retornos_acumulados(selic)[-1]\n",
        "β = beta(patrimonio['retornos'], Rm)\n",
        "IT = excesso_retorno / β\n",
        "print(f\"O Índice de Treynor para o portfólio sem aportes é {IT :.2f}, sendo o excesso de retorno = {excesso_retorno:.3f} e o β = {β:.3f}\")\n",
        "\n",
        "\n",
        "#Portfólio com aportes\n",
        "excesso_retorno = patrimonio_com_aportes['acumulado'].iloc[-1] - retornos_acumulados(selic)[-1]\n",
        "β = beta(patrimonio_com_aportes['retornos'], Rm)\n",
        "IT = excesso_retorno / β\n",
        "print(f\"O Índice de Treynor para o portfólio com aportes é {IT :.2f}, sendo o excesso de retorno = {excesso_retorno:.3f} e o β = {β:.3f}\")"
      ],
      "execution_count": null,
      "outputs": [
        {
          "output_type": "stream",
          "text": [
            "O Índice de Treynor para o portfólio sem aportes é 0.48, sendo o excesso de retorno = 0.463 e o β = 0.972\n",
            "O Índice de Treynor para o portfólio com aportes é 0.63, sendo o excesso de retorno = 0.649 e o β = 1.025\n"
          ],
          "name": "stdout"
        }
      ]
    },
    {
      "cell_type": "markdown",
      "metadata": {
        "id": "jnr1r_ouP_-O"
      },
      "source": [
        "#Retornos Relativos"
      ]
    },
    {
      "cell_type": "markdown",
      "metadata": {
        "id": "Np4LQobERfsN"
      },
      "source": [
        "O conceito de retorno relativo surge a partir da comparação da rentabilidade do portfólio com os índices disponíveis no mercado (*benchmarks*), como Ibovespa, SMLL, IBrX100, IBrA, S&P500, NASD100, entre outros. Existem várias formas calcular os retornos relativos ao mercado e neste artigo abordaremos:\n",
        "\n",
        "1. Comparação direta\n",
        "2. Information Ratio\n"
      ]
    },
    {
      "cell_type": "markdown",
      "metadata": {
        "id": "ug1OWZ6YQeJe"
      },
      "source": [
        "##Comparação direta"
      ]
    },
    {
      "cell_type": "markdown",
      "metadata": {
        "id": "0SS8ctZYUbIP"
      },
      "source": [
        "A forma mais simples de calcular retornos relativos é avaliar a razão entre o retorno acumulado da carteira e do mercado. Em outras palavras, avaliar quantas vezes o seu portfólio bateu o benchmark, conforme ilustrado na equação.\n",
        "\n",
        "> retorno relativo = retorno acumulado do portfólio / retorno acumulado do benchmark"
      ]
    },
    {
      "cell_type": "markdown",
      "metadata": {
        "id": "1SvZ3pugVb4d"
      },
      "source": [
        "Com essa informação, já é possível calcular os retornos dos portfólios relativos ao Ibov."
      ]
    },
    {
      "cell_type": "code",
      "metadata": {
        "id": "g8wWU4S5VkaY",
        "colab": {
          "base_uri": "https://localhost:8080/"
        },
        "outputId": "61c69390-3c91-4569-9d95-435daf057f90"
      },
      "source": [
        "#Portfólio sem aportes\n",
        "retorno_portfolio = patrimonio[\"acumulado\"].iloc[-1]\n",
        "retorno_benchmark = retornos_acumulados(Rm)[-1]\n",
        "retorno_relativo = retorno_portfolio / retorno_benchmark\n",
        "print(f\"O retorno da carteira sem aportes foi {retorno_relativo*100:.2f}% do retorno do Ibovespa\")\n",
        "\n",
        "#Portfólio com aportes\n",
        "retorno_portfolio = patrimonio_com_aportes[\"acumulado\"].iloc[-1]\n",
        "retorno_benchmark = retornos_acumulados(Rm)[-1]\n",
        "retorno_relativo = retorno_portfolio / retorno_benchmark\n",
        "print(f\"O retorno da carteira com aportes foi {retorno_relativo*100:.2f}% do retorno do Ibovespa\")\n"
      ],
      "execution_count": null,
      "outputs": [
        {
          "output_type": "stream",
          "text": [
            "O retorno da carteira sem aportes foi 95.79% do retorno do Ibovespa\n",
            "O retorno da carteira com aportes foi 132.49% do retorno do Ibovespa\n"
          ],
          "name": "stdout"
        }
      ]
    },
    {
      "cell_type": "markdown",
      "metadata": {
        "id": "QPZOLDP0To0R"
      },
      "source": [
        "##Information Ratio"
      ]
    },
    {
      "cell_type": "markdown",
      "metadata": {
        "id": "sLq_CubqZrA0"
      },
      "source": [
        "O *Information Ratio* é outra forma de se calcular uma relação risco-retorno. O indicador utiliza, como medida de retorno, a diferença média entre as rentabilidades do portfólio e do benchmark e, como medida de risco, o *tracking error* (desvio padrão das diferenças)."
      ]
    },
    {
      "cell_type": "markdown",
      "metadata": {
        "id": "gxLojVPccxN5"
      },
      "source": [
        "![Captura de tela de 2021-03-18 10-16-24.png](data:image/png;base64,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)"
      ]
    },
    {
      "cell_type": "markdown",
      "metadata": {
        "id": "jPlpuIwc9YUR"
      },
      "source": [
        "Em que:\n",
        "> *Rpi* é o retorno do portfólio para o mês *i*;\n",
        "\n",
        "> *Rmi* é o retorno do benchmark para o mês *i*;\n",
        "\n",
        "> *n* é o número total de meses."
      ]
    },
    {
      "cell_type": "markdown",
      "metadata": {
        "id": "w6qXeJNOfI4T"
      },
      "source": [
        "Sabendo disso, podemos calcular o *Information Ratio* das nossas carteiras."
      ]
    },
    {
      "cell_type": "code",
      "metadata": {
        "id": "fq3mo7lrgEst"
      },
      "source": [
        "def retorno_IR(portfolio, benchmark):\n",
        "  return mean(portfolio - benchmark)\n",
        "  \n",
        "def tracking_error(portfolio, benchmark):\n",
        "  return stdev(portfolio - benchmark)\n",
        "\n",
        "def information_ratio(portfolio, benchmark):\n",
        "  return retorno_IR(portfolio, benchmark) / tracking_error(portfolio, benchmark)"
      ],
      "execution_count": null,
      "outputs": []
    },
    {
      "cell_type": "code",
      "metadata": {
        "id": "N4IcDtcCUKdh",
        "colab": {
          "base_uri": "https://localhost:8080/"
        },
        "outputId": "25e7bfa6-930f-4bbe-9202-a73c1989213c"
      },
      "source": [
        "#Portfólio sem aportes\n",
        "retornos_portfolio = patrimonio[\"retornos\"].values\n",
        "retornos_benchmark = Rm\n",
        "\n",
        "inf_ratio = information_ratio(retornos_portfolio, retornos_benchmark)\n",
        "print(f\"O Information Ratio da carteira sem aportes foi de {inf_ratio:.3f}; com retorno = {retorno_IR(retornos_portfolio, retornos_benchmark):.3f} e tracking_error = {tracking_error(retornos_portfolio, retornos_benchmark):.3f}\")\n",
        "\n",
        "#Portfólio com aportes\n",
        "retornos_portfolio = patrimonio_com_aportes[\"retornos\"].values\n",
        "retornos_benchmark = Rm\n",
        "\n",
        "inf_ratio = information_ratio(retornos_portfolio, retornos_benchmark)\n",
        "print(f\"O Information Ratio da carteira sem aportes foi de {inf_ratio:.3f}; com retorno = {retorno_IR(retornos_portfolio, retornos_benchmark):.3f} e tracking_error = {tracking_error(retornos_portfolio, retornos_benchmark):.3f}\")"
      ],
      "execution_count": null,
      "outputs": [
        {
          "output_type": "stream",
          "text": [
            "O Information Ratio da carteira sem aportes foi de -0.079; com retorno = -0.001 e tracking_error = 0.016\n",
            "O Information Ratio da carteira sem aportes foi de 0.431; com retorno = 0.009 e tracking_error = 0.022\n"
          ],
          "name": "stdout"
        }
      ]
    },
    {
      "cell_type": "markdown",
      "metadata": {
        "id": "WWXeGEw1QYL2"
      },
      "source": [
        "# Retorno Anormal: Alfa de Jensen"
      ]
    },
    {
      "cell_type": "markdown",
      "metadata": {
        "id": "Epcy8wotZu5G"
      },
      "source": [
        "O Alfa de Jensen (**α**) é uma medida de retorno anormal, ou seja, parte do retorno do portfólio não explicado pelo risco assumido (medido pelo beta do portfólio - ver [Calculando o Beta em Python](https://tc.com.br/tc-school/quant-investimentos/python-calcular-beta/)). \n",
        "\n",
        "O **α** é o coeficiente linear do modelo CAPM - discutido em [Python: Modelo de Precificação de Ativos (CAPM)](https://tc.com.br/tc-school/quant-investimentos/python-capm/) - o qual é utilizado para estimar o retorno teórico esperado de um portfólio [9]. Para encontrar esse valor, devemos realizar a regressão linear dos excessos de retorno da carteira com os do benchmark."
      ]
    },
    {
      "cell_type": "markdown",
      "metadata": {
        "id": "lw9dsnT4dgQG"
      },
      "source": [
        "E[Rp] - Rf = α + β(E[Rm] -Rf) [9]"
      ]
    },
    {
      "cell_type": "markdown",
      "metadata": {
        "id": "sz9-Rh1hdvuG"
      },
      "source": [
        "Em que, \n",
        "* E[Rp] - Rf representa os excessos de retorno do portfólio;\n",
        "* E[Rm] - Rf representa os excessos de retorno do mercado.\n",
        "* α - significa o retorno anormal do portfólio (Alfa de Jensen)\n",
        "* β - significa o beta do portfólio"
      ]
    },
    {
      "cell_type": "markdown",
      "metadata": {
        "id": "hCLKx7OaePoX"
      },
      "source": [
        "Com isso, podemos aplicar a função *OLS* da biblioteca *statsmodels* - que realiza uma regressão linear utilizando o método dos Mínimos Quadrados Ordinários - nos dados dos retornos das carteiras e do Ibovespa para descobrirmos o beta e o alfa dos portfólios."
      ]
    },
    {
      "cell_type": "code",
      "metadata": {
        "id": "fMqo8QBoeMTM",
        "colab": {
          "base_uri": "https://localhost:8080/"
        },
        "outputId": "dfd49200-e127-4a40-8ad6-6718acb884bf"
      },
      "source": [
        "#Portfólio sem aportes\n",
        "excessos_retornos_mercado = add_constant(np.array(Rm) - np.array(selic)) #adiciona constante para calcular o alfa\n",
        "excessos_retornos_carteira = np.array(patrimonio[\"retornos\"]) - np.array(selic)\n",
        "\n",
        "model1 = OLS(excessos_retornos_carteira, excessos_retornos_mercado ).fit()\n",
        "print(\"-\"*35 + \"Portfólio sem aportes\" + \"-\"*35 + \"\\n\\n\")\n",
        "print(model1.summary())\n",
        "print(\"\\n\")\n",
        "\n",
        "\n",
        "#Portfólio com aportes\n",
        "excessos_retornos_mercado = add_constant(np.array(Rm) - np.array(selic))\n",
        "excessos_retornos_carteira = np.array(patrimonio_com_aportes[\"retornos\"]) - np.array(selic)\n",
        "\n",
        "model2 = OLS(excessos_retornos_carteira, excessos_retornos_mercado ).fit()\n",
        "print(\"-\"*35 + \"Portfólio com aportes\" + \"-\"*35 + \"\\n\\n\")\n",
        "print(model2.summary())"
      ],
      "execution_count": null,
      "outputs": [
        {
          "output_type": "stream",
          "text": [
            "-----------------------------------Portfólio sem aportes-----------------------------------\n",
            "\n",
            "\n",
            "                            OLS Regression Results                            \n",
            "==============================================================================\n",
            "Dep. Variable:                      y   R-squared:                       0.954\n",
            "Model:                            OLS   Adj. R-squared:                  0.949\n",
            "Method:                 Least Squares   F-statistic:                     205.8\n",
            "Date:                Thu, 18 Mar 2021   Prob (F-statistic):           5.36e-08\n",
            "Time:                        17:27:07   Log-Likelihood:                 33.563\n",
            "No. Observations:                  12   AIC:                            -63.13\n",
            "Df Residuals:                      10   BIC:                            -62.16\n",
            "Df Model:                           1                                         \n",
            "Covariance Type:            nonrobust                                         \n",
            "==============================================================================\n",
            "                 coef    std err          t      P>|t|      [0.025      0.975]\n",
            "------------------------------------------------------------------------------\n",
            "const         -0.0002      0.005     -0.043      0.966      -0.012       0.011\n",
            "x1             0.9714      0.068     14.347      0.000       0.821       1.122\n",
            "==============================================================================\n",
            "Omnibus:                        0.218   Durbin-Watson:                   1.710\n",
            "Prob(Omnibus):                  0.897   Jarque-Bera (JB):                0.295\n",
            "Skew:                           0.247   Prob(JB):                        0.863\n",
            "Kurtosis:                       2.411   Cond. No.                         14.5\n",
            "==============================================================================\n",
            "\n",
            "Warnings:\n",
            "[1] Standard Errors assume that the covariance matrix of the errors is correctly specified.\n",
            "\n",
            "\n",
            "-----------------------------------Portfólio com aportes-----------------------------------\n",
            "\n",
            "\n",
            "                            OLS Regression Results                            \n",
            "==============================================================================\n",
            "Dep. Variable:                      y   R-squared:                       0.922\n",
            "Model:                            OLS   Adj. R-squared:                  0.914\n",
            "Method:                 Least Squares   F-statistic:                     117.7\n",
            "Date:                Thu, 18 Mar 2021   Prob (F-statistic):           7.50e-07\n",
            "Time:                        17:27:07   Log-Likelihood:                 29.570\n",
            "No. Observations:                  12   AIC:                            -55.14\n",
            "Df Residuals:                      10   BIC:                            -54.17\n",
            "Df Model:                           1                                         \n",
            "Covariance Type:            nonrobust                                         \n",
            "==============================================================================\n",
            "                 coef    std err          t      P>|t|      [0.025      0.975]\n",
            "------------------------------------------------------------------------------\n",
            "const          0.0084      0.007      1.155      0.275      -0.008       0.025\n",
            "x1             1.0246      0.094     10.849      0.000       0.814       1.235\n",
            "==============================================================================\n",
            "Omnibus:                        2.057   Durbin-Watson:                   2.664\n",
            "Prob(Omnibus):                  0.358   Jarque-Bera (JB):                1.482\n",
            "Skew:                           0.731   Prob(JB):                        0.477\n",
            "Kurtosis:                       2.091   Cond. No.                         14.5\n",
            "==============================================================================\n",
            "\n",
            "Warnings:\n",
            "[1] Standard Errors assume that the covariance matrix of the errors is correctly specified.\n"
          ],
          "name": "stdout"
        },
        {
          "output_type": "stream",
          "text": [
            "/usr/local/lib/python3.7/dist-packages/scipy/stats/stats.py:1535: UserWarning: kurtosistest only valid for n>=20 ... continuing anyway, n=12\n",
            "  \"anyway, n=%i\" % int(n))\n"
          ],
          "name": "stderr"
        }
      ]
    },
    {
      "cell_type": "markdown",
      "metadata": {
        "id": "7xsMpP0lkGcI"
      },
      "source": [
        "Para tais resultados das regressões, obtemos os seguintes modelos para os portfólios:"
      ]
    },
    {
      "cell_type": "code",
      "metadata": {
        "id": "9CI3XXtCjboM",
        "colab": {
          "base_uri": "https://localhost:8080/"
        },
        "outputId": "4fc5c0ce-7be9-4b85-d042-0b8151070483"
      },
      "source": [
        "print(f\"Portfólio sem aporte:  α = {model1.params[0]*100:.2f}% ao mês\")\n",
        "print(f\"Portfólio com aporte:  α = {model2.params[0]*100:.2f}% ao mês\")"
      ],
      "execution_count": null,
      "outputs": [
        {
          "output_type": "stream",
          "text": [
            "Portfólio sem aporte:  α = -0.02% ao mês\n",
            "Portfólio com aporte:  α = 0.84% ao mês\n"
          ],
          "name": "stdout"
        }
      ]
    },
    {
      "cell_type": "markdown",
      "metadata": {
        "id": "LGSrDVO3mXR2"
      },
      "source": [
        "#Conclusão"
      ]
    },
    {
      "cell_type": "markdown",
      "metadata": {
        "id": "3Pwsi8iUmZH5"
      },
      "source": [
        "Neste artigo aprendemos a calcular os retornos periódicos e acumulados para carteiras com e sem aportes mensais e ajustá-los ao risco utilizando 3 métricas: risco-retorno, Índice de Sharpe e Índice de Treynor. Além disso, aprendemos a avaliar o desempenho do portfólio com base em um benchmark, calculando retornos relativos. Por fim, revisamos o CAPM para calcular o retorno anormal (**α**) do portfólio."
      ]
    },
    {
      "cell_type": "markdown",
      "metadata": {
        "id": "xZS-n3g_g2mX"
      },
      "source": [
        "#Referências"
      ]
    },
    {
      "cell_type": "markdown",
      "metadata": {
        "id": "oTo-La3MhD8F"
      },
      "source": [
        "[CFA Institute Investment Foundations®, Third Edition - Chapter 19](https://www.cfainstitute.org/-/media/documents/support/programs/investment-foundations/19-performance-evaluation.ashx?la=en&hash=F7FF3085AAFADE241B73403142AAE0BB1250B311)"
      ]
    },
    {
      "cell_type": "markdown",
      "metadata": {
        "id": "edaRyxNBZTGC"
      },
      "source": [
        "[TC School - Calculando o Beta em Python](https://tc.com.br/tc-school/quant-investimentos/python-calcular-beta/)"
      ]
    },
    {
      "cell_type": "markdown",
      "metadata": {
        "id": "Kjf3yitRZNSh"
      },
      "source": [
        "[TC School - Python: Modelo de Precificação de Ativos (CAPM)](https://tc.com.br/tc-school/quant-investimentos/python-capm/)"
      ]
    },
    {
      "cell_type": "markdown",
      "metadata": {
        "id": "4B_hjOSLZwm6"
      },
      "source": [
        "#Link para Notebook\n",
        "\n",
        "[Google Colaboratory](http://bit.ly/TC-avalia-performance)"
      ]
    },
    {
      "cell_type": "markdown",
      "metadata": {
        "id": "5bRCczJgNFOA"
      },
      "source": [
        "#Autor"
      ]
    },
    {
      "cell_type": "markdown",
      "metadata": {
        "id": "nD7XDGdCNHcC"
      },
      "source": [
        "Vítor Diniz\n",
        "\n",
        "Estagiário do TC Matrix\n",
        "\n",
        "Graduando em Ciência da Computação pela Universidade Federal de Campina Grande (UFCG)"
      ]
    }
  ]
}