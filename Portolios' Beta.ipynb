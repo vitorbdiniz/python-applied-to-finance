{
  "nbformat": 4,
  "nbformat_minor": 0,
  "metadata": {
    "colab": {
      "name": "Calculando Beta em Python.ipynb",
      "provenance": [],
      "collapsed_sections": [],
      "include_colab_link": true
    },
    "kernelspec": {
      "name": "python3",
      "display_name": "Python 3"
    }
  },
  "cells": [
    {
      "cell_type": "markdown",
      "metadata": {
        "id": "view-in-github",
        "colab_type": "text"
      },
      "source": [
        "<a href=\"https://colab.research.google.com/github/vitorbdiniz/python-applied-to-finance/blob/main/Portolios'%20Beta.ipynb\" target=\"_parent\"><img src=\"https://colab.research.google.com/assets/colab-badge.svg\" alt=\"Open In Colab\"/></a>"
      ]
    },
    {
      "cell_type": "markdown",
      "metadata": {
        "id": "emglpcu71Zz3"
      },
      "source": [
        "#Introdução"
      ]
    },
    {
      "cell_type": "markdown",
      "metadata": {
        "id": "4_Djuz7h1bf2"
      },
      "source": [
        "Dando sequência ao estudo de Python, iniciaremos agora uma abordagem mais aplicada a finanças. Já temos alguns textos introduzindo a linguagem na categoria [Quant & Investimentos](https://tc.com.br/tc-school/quant-investimentos/), então, se você ainda não entende como funciona um script básico, dá uma olhada lá antes de seguir a leitura."
      ]
    },
    {
      "cell_type": "markdown",
      "metadata": {
        "id": "Qh0teWWb2Zq-"
      },
      "source": [
        "Hoje iremos discutir o cálculo do beta de um portfólio, o coeficiente angular do modelo do CAPM de Sharpe (1977), discutindo por Filipe Duarte em [Python: Modelo de Precificação de Ativos (CAPM)\n",
        "](https://tc.com.br/tc-school/quant-investimentos/python-capm/), sem a necessidade de realizar a regressão. Para isso, este artigo está divido em 2 partes:\n",
        "- Portfólio com retornos conhecidos\n",
        "- Portfólio sem retornos conhecidos"
      ]
    },
    {
      "cell_type": "markdown",
      "metadata": {
        "id": "8grmKwrn4SVG"
      },
      "source": [
        "#Cálculo do Beta"
      ]
    },
    {
      "cell_type": "markdown",
      "metadata": {
        "id": "ro0CMjIJ6KZ_"
      },
      "source": [
        "Antes de iniciarmos o código, precisamos entender que o beta é calculado da seguinte forma:"
      ]
    },
    {
      "cell_type": "markdown",
      "metadata": {
        "id": "kZh9D3oL6Hdi"
      },
      "source": [
        "![beta.png](data:image/png;base64,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)\n",
        "\n",
        "Imagem retirada da referência [1]."
      ]
    },
    {
      "cell_type": "markdown",
      "metadata": {
        "id": "L-MFVXa74Y--"
      },
      "source": [
        "Em que, \n",
        "- β é o beta do portfólio i em relação ao índice de mercado m; \n",
        "- COV(r,R) é a covariância entre os retornos do portfólio (r) e do mercado (R);\n",
        "- VAR (R) é a variância dos retornos do mercado."
      ]
    },
    {
      "cell_type": "markdown",
      "metadata": {
        "id": "umE1wFw0G-1e"
      },
      "source": [
        "#Importando Bibliotecas e Buscando Dados"
      ]
    },
    {
      "cell_type": "markdown",
      "metadata": {
        "id": "6k3jjmCK5b-G"
      },
      "source": [
        "Tendo isso em mente, vamos precisar importar: \n",
        "\n",
        "- a biblioteca `pandas` para manipular DataFrames;\n",
        "- a biblioteca `pandas-datareader` para acessar a API gratuita de cotações do Yahoo;\n",
        "- o módulo `random` da biblioteca `numpy` para gerar retornos;\n",
        "- a função `cov` da biblioteca `numpy` para calcular a covariância;\n",
        "- a função `variance` da biblioteca `statistics` para calcular a variância."
      ]
    },
    {
      "cell_type": "code",
      "metadata": {
        "id": "jAedDYJT5bYB"
      },
      "source": [
        "import pandas as pd\n",
        "import pandas_datareader as web\n",
        "from numpy import cov, random\n",
        "from statistics import variance"
      ],
      "execution_count": null,
      "outputs": []
    },
    {
      "cell_type": "markdown",
      "metadata": {
        "id": "LYavGwZrE8fw"
      },
      "source": [
        "Buscaremos, primeiramente, as cotações de fechamento para cada mês dos últimos 60 do Ibovespa (o considerando como representação do mercado) através da interface para a API do Yahoo: "
      ]
    },
    {
      "cell_type": "code",
      "metadata": {
        "colab": {
          "base_uri": "https://localhost:8080/",
          "height": 235
        },
        "id": "7rxKXkP08gIn",
        "outputId": "7a1c09a2-6f1e-49e4-b097-3ee6f0441f0f"
      },
      "source": [
        "ibov = web.get_data_yahoo(\"^BVSP\", start=\"2016-03-24\", end=\"2021-02-24\").resample(\"M\").pad()[[\"Close\"]]\n",
        "ibov.tail(5)"
      ],
      "execution_count": null,
      "outputs": [
        {
          "output_type": "execute_result",
          "data": {
            "text/html": [
              "<div>\n",
              "<style scoped>\n",
              "    .dataframe tbody tr th:only-of-type {\n",
              "        vertical-align: middle;\n",
              "    }\n",
              "\n",
              "    .dataframe tbody tr th {\n",
              "        vertical-align: top;\n",
              "    }\n",
              "\n",
              "    .dataframe thead th {\n",
              "        text-align: right;\n",
              "    }\n",
              "</style>\n",
              "<table border=\"1\" class=\"dataframe\">\n",
              "  <thead>\n",
              "    <tr style=\"text-align: right;\">\n",
              "      <th></th>\n",
              "      <th>Close</th>\n",
              "    </tr>\n",
              "    <tr>\n",
              "      <th>Date</th>\n",
              "      <th></th>\n",
              "    </tr>\n",
              "  </thead>\n",
              "  <tbody>\n",
              "    <tr>\n",
              "      <th>2020-10-31</th>\n",
              "      <td>93952.00000</td>\n",
              "    </tr>\n",
              "    <tr>\n",
              "      <th>2020-11-30</th>\n",
              "      <td>108888.00000</td>\n",
              "    </tr>\n",
              "    <tr>\n",
              "      <th>2020-12-31</th>\n",
              "      <td>119306.00000</td>\n",
              "    </tr>\n",
              "    <tr>\n",
              "      <th>2021-01-31</th>\n",
              "      <td>116007.00000</td>\n",
              "    </tr>\n",
              "    <tr>\n",
              "      <th>2021-02-28</th>\n",
              "      <td>115667.78125</td>\n",
              "    </tr>\n",
              "  </tbody>\n",
              "</table>\n",
              "</div>"
            ],
            "text/plain": [
              "                   Close\n",
              "Date                    \n",
              "2020-10-31   93952.00000\n",
              "2020-11-30  108888.00000\n",
              "2020-12-31  119306.00000\n",
              "2021-01-31  116007.00000\n",
              "2021-02-28  115667.78125"
            ]
          },
          "metadata": {
            "tags": []
          },
          "execution_count": 55
        }
      ]
    },
    {
      "cell_type": "markdown",
      "metadata": {
        "id": "Zm7cqsXiBFgS"
      },
      "source": [
        "Entretanto, o que nos interessa são os retornos mensais. Para isso, definiremos uma função que realiza tal cálculo:"
      ]
    },
    {
      "cell_type": "code",
      "metadata": {
        "id": "FoHWn6XwBElA"
      },
      "source": [
        "def retornos(precos):\n",
        "  resultado = [0]\n",
        "  for i in range(1, len(precos)):\n",
        "    resultado.append(precos[i]/precos[i-1] -1)\n",
        "  return resultado\n"
      ],
      "execution_count": null,
      "outputs": []
    },
    {
      "cell_type": "markdown",
      "metadata": {
        "id": "kTmmDl5iCeGj"
      },
      "source": [
        "Para quem deseja escrever um código mais eficiente, a função `retornos` pode ser escrita como uma função `lambda`, da seguinte forma:"
      ]
    },
    {
      "cell_type": "code",
      "metadata": {
        "id": "lUuUV8qaCMP8"
      },
      "source": [
        "retornos = lambda precos : [0]+[ precos[i]/precos[i-1] -1 for i in range(1, len(precos)) ]"
      ],
      "execution_count": null,
      "outputs": []
    },
    {
      "cell_type": "markdown",
      "metadata": {
        "id": "4qyhBUKNDjoB"
      },
      "source": [
        "Com isso, podemos aplicar a função e encontrar nossos retornos"
      ]
    },
    {
      "cell_type": "code",
      "metadata": {
        "colab": {
          "base_uri": "https://localhost:8080/",
          "height": 235
        },
        "id": "8CjtKjHeFmwT",
        "outputId": "3c32065c-e1b2-4826-9372-da2969986abb"
      },
      "source": [
        "ibov[\"retornos\"] = retornos(ibov[\"Close\"])\n",
        "ibov.tail(5)"
      ],
      "execution_count": null,
      "outputs": [
        {
          "output_type": "execute_result",
          "data": {
            "text/html": [
              "<div>\n",
              "<style scoped>\n",
              "    .dataframe tbody tr th:only-of-type {\n",
              "        vertical-align: middle;\n",
              "    }\n",
              "\n",
              "    .dataframe tbody tr th {\n",
              "        vertical-align: top;\n",
              "    }\n",
              "\n",
              "    .dataframe thead th {\n",
              "        text-align: right;\n",
              "    }\n",
              "</style>\n",
              "<table border=\"1\" class=\"dataframe\">\n",
              "  <thead>\n",
              "    <tr style=\"text-align: right;\">\n",
              "      <th></th>\n",
              "      <th>Close</th>\n",
              "      <th>retornos</th>\n",
              "    </tr>\n",
              "    <tr>\n",
              "      <th>Date</th>\n",
              "      <th></th>\n",
              "      <th></th>\n",
              "    </tr>\n",
              "  </thead>\n",
              "  <tbody>\n",
              "    <tr>\n",
              "      <th>2020-10-31</th>\n",
              "      <td>93952.00000</td>\n",
              "      <td>-0.006881</td>\n",
              "    </tr>\n",
              "    <tr>\n",
              "      <th>2020-11-30</th>\n",
              "      <td>108888.00000</td>\n",
              "      <td>0.158975</td>\n",
              "    </tr>\n",
              "    <tr>\n",
              "      <th>2020-12-31</th>\n",
              "      <td>119306.00000</td>\n",
              "      <td>0.095676</td>\n",
              "    </tr>\n",
              "    <tr>\n",
              "      <th>2021-01-31</th>\n",
              "      <td>116007.00000</td>\n",
              "      <td>-0.027652</td>\n",
              "    </tr>\n",
              "    <tr>\n",
              "      <th>2021-02-28</th>\n",
              "      <td>115667.78125</td>\n",
              "      <td>-0.002924</td>\n",
              "    </tr>\n",
              "  </tbody>\n",
              "</table>\n",
              "</div>"
            ],
            "text/plain": [
              "                   Close  retornos\n",
              "Date                              \n",
              "2020-10-31   93952.00000 -0.006881\n",
              "2020-11-30  108888.00000  0.158975\n",
              "2020-12-31  119306.00000  0.095676\n",
              "2021-01-31  116007.00000 -0.027652\n",
              "2021-02-28  115667.78125 -0.002924"
            ]
          },
          "metadata": {
            "tags": []
          },
          "execution_count": 84
        }
      ]
    },
    {
      "cell_type": "markdown",
      "metadata": {
        "id": "9zneUR578EAt"
      },
      "source": [
        "Agora podemos começar a pensar no nosso beta."
      ]
    },
    {
      "cell_type": "markdown",
      "metadata": {
        "id": "hQB4kzzN8IbW"
      },
      "source": [
        "#Portólio com retornos conhecidos"
      ]
    },
    {
      "cell_type": "markdown",
      "metadata": {
        "id": "Vc7C9W5J8Q6L"
      },
      "source": [
        "Considere que sua carteira obteve os seguintes retornos mensais nos últimos 60 meses (5 anos):"
      ]
    },
    {
      "cell_type": "code",
      "metadata": {
        "colab": {
          "base_uri": "https://localhost:8080/",
          "height": 1000
        },
        "id": "9x0h7CcQ8Ml9",
        "outputId": "b4c7626b-c241-4e02-ec76-0fe1ed3fbf6e"
      },
      "source": [
        "carteira = pd.DataFrame({\"retornos\":random.rand(60) * ibov[\"retornos\"]})\n",
        "carteira"
      ],
      "execution_count": null,
      "outputs": [
        {
          "output_type": "execute_result",
          "data": {
            "text/html": [
              "<div>\n",
              "<style scoped>\n",
              "    .dataframe tbody tr th:only-of-type {\n",
              "        vertical-align: middle;\n",
              "    }\n",
              "\n",
              "    .dataframe tbody tr th {\n",
              "        vertical-align: top;\n",
              "    }\n",
              "\n",
              "    .dataframe thead th {\n",
              "        text-align: right;\n",
              "    }\n",
              "</style>\n",
              "<table border=\"1\" class=\"dataframe\">\n",
              "  <thead>\n",
              "    <tr style=\"text-align: right;\">\n",
              "      <th></th>\n",
              "      <th>retornos</th>\n",
              "    </tr>\n",
              "    <tr>\n",
              "      <th>Date</th>\n",
              "      <th></th>\n",
              "    </tr>\n",
              "  </thead>\n",
              "  <tbody>\n",
              "    <tr>\n",
              "      <th>2016-03-31</th>\n",
              "      <td>0.000000</td>\n",
              "    </tr>\n",
              "    <tr>\n",
              "      <th>2016-04-30</th>\n",
              "      <td>0.000670</td>\n",
              "    </tr>\n",
              "    <tr>\n",
              "      <th>2016-05-31</th>\n",
              "      <td>-0.099181</td>\n",
              "    </tr>\n",
              "    <tr>\n",
              "      <th>2016-06-30</th>\n",
              "      <td>0.005090</td>\n",
              "    </tr>\n",
              "    <tr>\n",
              "      <th>2016-07-31</th>\n",
              "      <td>0.076222</td>\n",
              "    </tr>\n",
              "    <tr>\n",
              "      <th>2016-08-31</th>\n",
              "      <td>0.001461</td>\n",
              "    </tr>\n",
              "    <tr>\n",
              "      <th>2016-09-30</th>\n",
              "      <td>0.007037</td>\n",
              "    </tr>\n",
              "    <tr>\n",
              "      <th>2016-10-31</th>\n",
              "      <td>0.066695</td>\n",
              "    </tr>\n",
              "    <tr>\n",
              "      <th>2016-11-30</th>\n",
              "      <td>-0.021906</td>\n",
              "    </tr>\n",
              "    <tr>\n",
              "      <th>2016-12-31</th>\n",
              "      <td>-0.013508</td>\n",
              "    </tr>\n",
              "    <tr>\n",
              "      <th>2017-01-31</th>\n",
              "      <td>0.019650</td>\n",
              "    </tr>\n",
              "    <tr>\n",
              "      <th>2017-02-28</th>\n",
              "      <td>0.011000</td>\n",
              "    </tr>\n",
              "    <tr>\n",
              "      <th>2017-03-31</th>\n",
              "      <td>-0.012355</td>\n",
              "    </tr>\n",
              "    <tr>\n",
              "      <th>2017-04-30</th>\n",
              "      <td>0.004341</td>\n",
              "    </tr>\n",
              "    <tr>\n",
              "      <th>2017-05-31</th>\n",
              "      <td>-0.023619</td>\n",
              "    </tr>\n",
              "    <tr>\n",
              "      <th>2017-06-30</th>\n",
              "      <td>0.001867</td>\n",
              "    </tr>\n",
              "    <tr>\n",
              "      <th>2017-07-31</th>\n",
              "      <td>0.016542</td>\n",
              "    </tr>\n",
              "    <tr>\n",
              "      <th>2017-08-31</th>\n",
              "      <td>0.048040</td>\n",
              "    </tr>\n",
              "    <tr>\n",
              "      <th>2017-09-30</th>\n",
              "      <td>0.039788</td>\n",
              "    </tr>\n",
              "    <tr>\n",
              "      <th>2017-10-31</th>\n",
              "      <td>0.000049</td>\n",
              "    </tr>\n",
              "    <tr>\n",
              "      <th>2017-11-30</th>\n",
              "      <td>-0.028453</td>\n",
              "    </tr>\n",
              "    <tr>\n",
              "      <th>2017-12-31</th>\n",
              "      <td>0.009062</td>\n",
              "    </tr>\n",
              "    <tr>\n",
              "      <th>2018-01-31</th>\n",
              "      <td>0.062007</td>\n",
              "    </tr>\n",
              "    <tr>\n",
              "      <th>2018-02-28</th>\n",
              "      <td>0.001505</td>\n",
              "    </tr>\n",
              "    <tr>\n",
              "      <th>2018-03-31</th>\n",
              "      <td>-0.001243</td>\n",
              "    </tr>\n",
              "    <tr>\n",
              "      <th>2018-04-30</th>\n",
              "      <td>0.000651</td>\n",
              "    </tr>\n",
              "    <tr>\n",
              "      <th>2018-05-31</th>\n",
              "      <td>-0.019094</td>\n",
              "    </tr>\n",
              "    <tr>\n",
              "      <th>2018-06-30</th>\n",
              "      <td>-0.040832</td>\n",
              "    </tr>\n",
              "    <tr>\n",
              "      <th>2018-07-31</th>\n",
              "      <td>0.027944</td>\n",
              "    </tr>\n",
              "    <tr>\n",
              "      <th>2018-08-31</th>\n",
              "      <td>-0.022066</td>\n",
              "    </tr>\n",
              "    <tr>\n",
              "      <th>2018-09-30</th>\n",
              "      <td>0.012780</td>\n",
              "    </tr>\n",
              "    <tr>\n",
              "      <th>2018-10-31</th>\n",
              "      <td>0.065723</td>\n",
              "    </tr>\n",
              "    <tr>\n",
              "      <th>2018-11-30</th>\n",
              "      <td>0.021815</td>\n",
              "    </tr>\n",
              "    <tr>\n",
              "      <th>2018-12-31</th>\n",
              "      <td>-0.017266</td>\n",
              "    </tr>\n",
              "    <tr>\n",
              "      <th>2019-01-31</th>\n",
              "      <td>0.032471</td>\n",
              "    </tr>\n",
              "    <tr>\n",
              "      <th>2019-02-28</th>\n",
              "      <td>-0.006678</td>\n",
              "    </tr>\n",
              "    <tr>\n",
              "      <th>2019-03-31</th>\n",
              "      <td>-0.000595</td>\n",
              "    </tr>\n",
              "    <tr>\n",
              "      <th>2019-04-30</th>\n",
              "      <td>0.003838</td>\n",
              "    </tr>\n",
              "    <tr>\n",
              "      <th>2019-05-31</th>\n",
              "      <td>0.005184</td>\n",
              "    </tr>\n",
              "    <tr>\n",
              "      <th>2019-06-30</th>\n",
              "      <td>0.028829</td>\n",
              "    </tr>\n",
              "    <tr>\n",
              "      <th>2019-07-31</th>\n",
              "      <td>0.002105</td>\n",
              "    </tr>\n",
              "    <tr>\n",
              "      <th>2019-08-31</th>\n",
              "      <td>-0.005739</td>\n",
              "    </tr>\n",
              "    <tr>\n",
              "      <th>2019-09-30</th>\n",
              "      <td>0.004347</td>\n",
              "    </tr>\n",
              "    <tr>\n",
              "      <th>2019-10-31</th>\n",
              "      <td>0.019472</td>\n",
              "    </tr>\n",
              "    <tr>\n",
              "      <th>2019-11-30</th>\n",
              "      <td>0.002386</td>\n",
              "    </tr>\n",
              "    <tr>\n",
              "      <th>2019-12-31</th>\n",
              "      <td>0.036689</td>\n",
              "    </tr>\n",
              "    <tr>\n",
              "      <th>2020-01-31</th>\n",
              "      <td>-0.008077</td>\n",
              "    </tr>\n",
              "    <tr>\n",
              "      <th>2020-02-29</th>\n",
              "      <td>-0.053964</td>\n",
              "    </tr>\n",
              "    <tr>\n",
              "      <th>2020-03-31</th>\n",
              "      <td>-0.260106</td>\n",
              "    </tr>\n",
              "    <tr>\n",
              "      <th>2020-04-30</th>\n",
              "      <td>0.066341</td>\n",
              "    </tr>\n",
              "    <tr>\n",
              "      <th>2020-05-31</th>\n",
              "      <td>0.069439</td>\n",
              "    </tr>\n",
              "    <tr>\n",
              "      <th>2020-06-30</th>\n",
              "      <td>0.023763</td>\n",
              "    </tr>\n",
              "    <tr>\n",
              "      <th>2020-07-31</th>\n",
              "      <td>0.050446</td>\n",
              "    </tr>\n",
              "    <tr>\n",
              "      <th>2020-08-31</th>\n",
              "      <td>-0.024126</td>\n",
              "    </tr>\n",
              "    <tr>\n",
              "      <th>2020-09-30</th>\n",
              "      <td>-0.020411</td>\n",
              "    </tr>\n",
              "    <tr>\n",
              "      <th>2020-10-31</th>\n",
              "      <td>-0.006056</td>\n",
              "    </tr>\n",
              "    <tr>\n",
              "      <th>2020-11-30</th>\n",
              "      <td>0.023411</td>\n",
              "    </tr>\n",
              "    <tr>\n",
              "      <th>2020-12-31</th>\n",
              "      <td>0.085412</td>\n",
              "    </tr>\n",
              "    <tr>\n",
              "      <th>2021-01-31</th>\n",
              "      <td>-0.016430</td>\n",
              "    </tr>\n",
              "    <tr>\n",
              "      <th>2021-02-28</th>\n",
              "      <td>-0.001056</td>\n",
              "    </tr>\n",
              "  </tbody>\n",
              "</table>\n",
              "</div>"
            ],
            "text/plain": [
              "            retornos\n",
              "Date                \n",
              "2016-03-31  0.000000\n",
              "2016-04-30  0.000670\n",
              "2016-05-31 -0.099181\n",
              "2016-06-30  0.005090\n",
              "2016-07-31  0.076222\n",
              "2016-08-31  0.001461\n",
              "2016-09-30  0.007037\n",
              "2016-10-31  0.066695\n",
              "2016-11-30 -0.021906\n",
              "2016-12-31 -0.013508\n",
              "2017-01-31  0.019650\n",
              "2017-02-28  0.011000\n",
              "2017-03-31 -0.012355\n",
              "2017-04-30  0.004341\n",
              "2017-05-31 -0.023619\n",
              "2017-06-30  0.001867\n",
              "2017-07-31  0.016542\n",
              "2017-08-31  0.048040\n",
              "2017-09-30  0.039788\n",
              "2017-10-31  0.000049\n",
              "2017-11-30 -0.028453\n",
              "2017-12-31  0.009062\n",
              "2018-01-31  0.062007\n",
              "2018-02-28  0.001505\n",
              "2018-03-31 -0.001243\n",
              "2018-04-30  0.000651\n",
              "2018-05-31 -0.019094\n",
              "2018-06-30 -0.040832\n",
              "2018-07-31  0.027944\n",
              "2018-08-31 -0.022066\n",
              "2018-09-30  0.012780\n",
              "2018-10-31  0.065723\n",
              "2018-11-30  0.021815\n",
              "2018-12-31 -0.017266\n",
              "2019-01-31  0.032471\n",
              "2019-02-28 -0.006678\n",
              "2019-03-31 -0.000595\n",
              "2019-04-30  0.003838\n",
              "2019-05-31  0.005184\n",
              "2019-06-30  0.028829\n",
              "2019-07-31  0.002105\n",
              "2019-08-31 -0.005739\n",
              "2019-09-30  0.004347\n",
              "2019-10-31  0.019472\n",
              "2019-11-30  0.002386\n",
              "2019-12-31  0.036689\n",
              "2020-01-31 -0.008077\n",
              "2020-02-29 -0.053964\n",
              "2020-03-31 -0.260106\n",
              "2020-04-30  0.066341\n",
              "2020-05-31  0.069439\n",
              "2020-06-30  0.023763\n",
              "2020-07-31  0.050446\n",
              "2020-08-31 -0.024126\n",
              "2020-09-30 -0.020411\n",
              "2020-10-31 -0.006056\n",
              "2020-11-30  0.023411\n",
              "2020-12-31  0.085412\n",
              "2021-01-31 -0.016430\n",
              "2021-02-28 -0.001056"
            ]
          },
          "metadata": {
            "tags": []
          },
          "execution_count": 97
        }
      ]
    },
    {
      "cell_type": "markdown",
      "metadata": {
        "id": "4dMy_coTEDm0"
      },
      "source": [
        "Com isso, podemos calcular o beta do nosso portfólio aplicando a fórmula de Sharpe descrita anteriormente"
      ]
    },
    {
      "cell_type": "code",
      "metadata": {
        "colab": {
          "base_uri": "https://localhost:8080/"
        },
        "id": "iVvGVgHyD5-W",
        "outputId": "fca3787d-2951-4785-de07-1badecac5d9b"
      },
      "source": [
        "beta_portfolio_com_retornos = cov(carteira[\"retornos\"], ibov[\"retornos\"])[0][1] / variance(ibov[\"retornos\"])\n",
        "print(f\"O beta do portfólio é {beta_portfolio_com_retornos:.3f}\")"
      ],
      "execution_count": null,
      "outputs": [
        {
          "output_type": "stream",
          "text": [
            "O beta do portfólio é 0.617\n"
          ],
          "name": "stdout"
        }
      ]
    },
    {
      "cell_type": "markdown",
      "metadata": {
        "id": "Elho0GXgIOH4"
      },
      "source": [
        "De uma forma direta, conseguimos descobrir o beta do nosso portfólio."
      ]
    },
    {
      "cell_type": "markdown",
      "metadata": {
        "id": "OVVkFKnMyI6y"
      },
      "source": [
        "#Portfólio sem retornos conhecidos"
      ]
    },
    {
      "cell_type": "markdown",
      "metadata": {
        "id": "m2wNtfofIaCl"
      },
      "source": [
        "Contudo, a facilidade apresentada anteriormente se torna mais distante quando o investidor não sabe ao certo quais foram suas rentabilidades mensais dos últimos períodos.\n",
        "\n",
        "Para tanto, calcularemos o beta do portfólio como a média ponderada dos betas dos ativos que o compõem."
      ]
    },
    {
      "cell_type": "markdown",
      "metadata": {
        "id": "2p7CJy-uyLdq"
      },
      "source": [
        "Suponha, então, que seu portfólio é composto pelos seguintes ativos:\n",
        "\n",
        "1. ITSA4 (12%)\n",
        "2. B3SA3 (11%)\n",
        "3. EGIE3 (11%)\n",
        "4. KLBN11 (10%)\n",
        "5. WEGE3 (9%)\n",
        "6. MDIA3 (9%)\n",
        "7. LREN3 (8%)\n",
        "8. VVAR3 (8%)\n",
        "9. AAPL34 (6%)\n",
        "10. BERK34 (6%)\n",
        "\n",
        "Além disso, você manteve 10% em caixa.\n"
      ]
    },
    {
      "cell_type": "markdown",
      "metadata": {
        "id": "j16kDbYU07Dp"
      },
      "source": [
        "Em seguida, iremos calcular cada beta individualmente encapsulando a fórmula do beta em uma função (`beta`) e colocando-a dentro de um laço para calcular de todos os ativos."
      ]
    },
    {
      "cell_type": "code",
      "metadata": {
        "id": "yDLOtt4C0KUS"
      },
      "source": [
        "#Função do beta\n",
        "beta = lambda carteira, ibov : cov(carteira, ibov)[0][1] / variance(ibov)"
      ],
      "execution_count": null,
      "outputs": []
    },
    {
      "cell_type": "code",
      "metadata": {
        "id": "JqAyInFmNlzh"
      },
      "source": [
        "ativos = {\"ITSA4\":0.12, \"B3SA3\":0.11, \"EGIE3\":0.11, \"KLBN11\":0.1, \"WEGE3\":0.09, \"MDIA3\":0.09, \"LREN3\":0.08, \"VVAR3\":0.08, \"AAPL34\":0.06, \"BERK34\":0.06}"
      ],
      "execution_count": null,
      "outputs": []
    },
    {
      "cell_type": "code",
      "metadata": {
        "id": "b9cYvVy3y797"
      },
      "source": [
        "def calcula_betas(mercado, ativos):\n",
        "  betas = dict()\n",
        "  for ativo in ativos:\n",
        "    r = web.get_data_yahoo(ativo+\".SA\", start=\"2016-03-24\", end=\"2021-02-24\").resample(\"M\").pad()[[\"Close\"]]\n",
        "    returns = retornos(r[\"Close\"])\n",
        "    betas[ativo] = beta(returns, mercado)\n",
        "  return betas"
      ],
      "execution_count": null,
      "outputs": []
    },
    {
      "cell_type": "code",
      "metadata": {
        "id": "iAVDAUGgPMKp"
      },
      "source": [
        "betas = calcula_betas(ibov[\"retornos\"], ativos.keys())"
      ],
      "execution_count": null,
      "outputs": []
    },
    {
      "cell_type": "markdown",
      "metadata": {
        "id": "I1_4UnCFRA7l"
      },
      "source": [
        "Agora já temos os betas de cada ativo, como podemos ver abaixo:"
      ]
    },
    {
      "cell_type": "code",
      "metadata": {
        "colab": {
          "base_uri": "https://localhost:8080/"
        },
        "id": "kZ-sOiGUQ-v7",
        "outputId": "7f971a4f-95d3-4c80-aa29-07421bd1eb20"
      },
      "source": [
        "for ativo in betas:\n",
        "  print(f\"O beta de {ativo} é {betas[ativo]:.2f}\")"
      ],
      "execution_count": null,
      "outputs": [
        {
          "output_type": "stream",
          "text": [
            "O beta de ITSA4 é 1.11\n",
            "O beta de B3SA3 é 0.99\n",
            "O beta de EGIE3 é 0.67\n",
            "O beta de KLBN11 é 0.28\n",
            "O beta de WEGE3 é 0.55\n",
            "O beta de MDIA3 é 0.73\n",
            "O beta de LREN3 é 0.97\n",
            "O beta de VVAR3 é 1.84\n",
            "O beta de AAPL34 é -0.25\n",
            "O beta de BERK34 é -0.23\n"
          ],
          "name": "stdout"
        }
      ]
    },
    {
      "cell_type": "markdown",
      "metadata": {
        "id": "XhrEiOQ1R-wR"
      },
      "source": [
        "Vamos agora calcular a média ponderada dos betas."
      ]
    },
    {
      "cell_type": "code",
      "metadata": {
        "colab": {
          "base_uri": "https://localhost:8080/"
        },
        "id": "eiGKFqVtSO3h",
        "outputId": "16b1b9c6-8875-4fa9-f2d0-bba49c7789d0"
      },
      "source": [
        "beta_portfolio_sem_retornos = 0\n",
        "for ativo in ativos:\n",
        "  beta_portfolio_sem_retornos += betas[ativo] * ativos[ativo]\n",
        "print(f\"O beta do portfólio é {beta_portfolio_sem_retornos:.3f}\")"
      ],
      "execution_count": null,
      "outputs": [
        {
          "output_type": "stream",
          "text": [
            "O beta do portfólio é 0.656\n"
          ],
          "name": "stdout"
        }
      ]
    },
    {
      "cell_type": "markdown",
      "metadata": {
        "id": "VOErsjB0UJks"
      },
      "source": [
        "#Conclusão"
      ]
    },
    {
      "cell_type": "markdown",
      "metadata": {
        "id": "zki_nsnQUMRa"
      },
      "source": [
        "Aprendemos, então, que para calcular o beta de um portfólio qualquer, basta aplicar o cálculo de forma direta utilizando os retornos do mercado e do portfólio. Todavia, caso o investidor não saiba quais são seus retornos, é possível calculá-lo através da média ponderada do beta de cada ativo que compõe a carteira."
      ]
    },
    {
      "cell_type": "markdown",
      "metadata": {
        "id": "DYMlTO9IyAw8"
      },
      "source": [
        "#Bibliografia\n",
        "\n",
        "[1] SHARPE, William F. The capital asset pricing model: a “multi-beta” interpretation. In: **Financial Dec Making Under Uncertainty**. Academic Press, 1977. p. 127-135."
      ]
    }
  ]
}